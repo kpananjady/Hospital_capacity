{
 "cells": [
  {
   "cell_type": "markdown",
   "metadata": {},
   "source": [
    "# What this file does"
   ]
  },
  {
   "cell_type": "markdown",
   "metadata": {},
   "source": [
    "Looks at facility level data provided by Health and Human Services to assess hospital capacity. Skip to the \"Formulae\" section to see results."
   ]
  },
  {
   "cell_type": "code",
   "execution_count": 1,
   "metadata": {},
   "outputs": [],
   "source": [
    "import pandas as pd"
   ]
  },
  {
   "cell_type": "markdown",
   "metadata": {},
   "source": [
    "# Tools"
   ]
  },
  {
   "cell_type": "code",
   "execution_count": 2,
   "metadata": {},
   "outputs": [],
   "source": [
    "df = pd.read_csv('reported_hospital_capacity_admissions_facility-level_weekly_average_timeseries_20201207 (1).csv')"
   ]
  },
  {
   "cell_type": "code",
   "execution_count": 3,
   "metadata": {},
   "outputs": [],
   "source": [
    "#columns;pediatric estimates seem to be negative (suppressed?)"
   ]
  },
  {
   "cell_type": "code",
   "execution_count": 21,
   "metadata": {},
   "outputs": [
    {
     "data": {
      "text/plain": [
       "Index(['hospital_pk', 'collection_week', 'state', 'ccn', 'hospital_name',\n",
       "       'address', 'city', 'zip', 'hospital_subtype', 'fips_code',\n",
       "       'is_metro_micro', 'total_beds_7_day_avg',\n",
       "       'all_adult_hospital_beds_7_day_avg',\n",
       "       'all_adult_hospital_inpatient_beds_7_day_avg',\n",
       "       'inpatient_beds_used_7_day_avg',\n",
       "       'all_adult_hospital_inpatient_bed_occupied_7_day_avg',\n",
       "       'total_adult_patients_hospitalized_confirmed_and_suspected_covid_7_day_avg',\n",
       "       'total_adult_patients_hospitalized_confirmed_covid_7_day_avg',\n",
       "       'total_pediatric_patients_hospitalized_confirmed_and_suspected_covid_7_day_avg',\n",
       "       'total_pediatric_patients_hospitalized_confirmed_covid_7_day_avg',\n",
       "       'inpatient_beds_7_day_avg', 'total_icu_beds_7_day_avg',\n",
       "       'total_staffed_adult_icu_beds_7_day_avg', 'icu_beds_used_7_day_avg',\n",
       "       'staffed_adult_icu_bed_occupancy_7_day_avg',\n",
       "       'staffed_icu_adult_patients_confirmed_and_suspected_covid_7_day_avg',\n",
       "       'staffed_icu_adult_patients_confirmed_covid_7_day_avg',\n",
       "       'total_patients_hospitalized_confirmed_influenza_7_day_avg',\n",
       "       'icu_patients_confirmed_influenza_7_day_avg',\n",
       "       'total_patients_hospitalized_confirmed_influenza_and_covid_7_day_avg',\n",
       "       'total_beds_7_day_sum', 'all_adult_hospital_beds_7_day_sum',\n",
       "       'all_adult_hospital_inpatient_beds_7_day_sum',\n",
       "       'inpatient_beds_used_7_day_sum',\n",
       "       'all_adult_hospital_inpatient_bed_occupied_7_day_sum',\n",
       "       'total_adult_patients_hospitalized_confirmed_and_suspected_covid_7_day_sum',\n",
       "       'total_adult_patients_hospitalized_confirmed_covid_7_day_sum',\n",
       "       'total_pediatric_patients_hospitalized_confirmed_and_suspected_covid_7_day_sum',\n",
       "       'total_pediatric_patients_hospitalized_confirmed_covid_7_day_sum',\n",
       "       'inpatient_beds_7_day_sum', 'total_icu_beds_7_day_sum',\n",
       "       'total_staffed_adult_icu_beds_7_day_sum', 'icu_beds_used_7_day_sum',\n",
       "       'staffed_adult_icu_bed_occupancy_7_day_sum',\n",
       "       'staffed_icu_adult_patients_confirmed_and_suspected_covid_7_day_sum',\n",
       "       'staffed_icu_adult_patients_confirmed_covid_7_day_sum',\n",
       "       'total_patients_hospitalized_confirmed_influenza_7_day_sum',\n",
       "       'icu_patients_confirmed_influenza_7_day_sum',\n",
       "       'total_patients_hospitalized_confirmed_influenza_and_covid_7_day_sum',\n",
       "       'total_beds_7_day_coverage', 'all_adult_hospital_beds_7_day_coverage',\n",
       "       'all_adult_hospital_inpatient_beds_7_day_coverage',\n",
       "       'inpatient_beds_used_7_day_coverage',\n",
       "       'all_adult_hospital_inpatient_bed_occupied_7_day_coverage',\n",
       "       'total_adult_patients_hospitalized_confirmed_and_suspected_covid_7_day_coverage',\n",
       "       'total_adult_patients_hospitalized_confirmed_covid_7_day_coverage',\n",
       "       'total_pediatric_patients_hospitalized_confirmed_and_suspected_covid_7_day_coverage',\n",
       "       'total_pediatric_patients_hospitalized_confirmed_covid_7_day_coverage',\n",
       "       'inpatient_beds_7_day_coverage', 'total_icu_beds_7_day_coverage',\n",
       "       'total_staffed_adult_icu_beds_7_day_coverage',\n",
       "       'icu_beds_used_7_day_coverage',\n",
       "       'staffed_adult_icu_bed_occupancy_7_day_coverage',\n",
       "       'staffed_icu_adult_patients_confirmed_and_suspected_covid_7_day_coverage',\n",
       "       'staffed_icu_adult_patients_confirmed_covid_7_day_coverage',\n",
       "       'total_patients_hospitalized_confirmed_influenza_7_day_coverage',\n",
       "       'icu_patients_confirmed_influenza_7_day_coverage',\n",
       "       'total_patients_hospitalized_confirmed_influenza_and_covid_7_day_coverage',\n",
       "       'previous_day_admission_adult_covid_confirmed_7_day_sum',\n",
       "       'previous_day_admission_adult_covid_confirmed_18-19_7_day_sum',\n",
       "       'previous_day_admission_adult_covid_confirmed_20-29_7_day_sum',\n",
       "       'previous_day_admission_adult_covid_confirmed_30-39_7_day_sum',\n",
       "       'previous_day_admission_adult_covid_confirmed_40-49_7_day_sum',\n",
       "       'previous_day_admission_adult_covid_confirmed_50-59_7_day_sum',\n",
       "       'previous_day_admission_adult_covid_confirmed_60-69_7_day_sum',\n",
       "       'previous_day_admission_adult_covid_confirmed_70-79_7_day_sum',\n",
       "       'previous_day_admission_adult_covid_confirmed_80+_7_day_sum',\n",
       "       'previous_day_admission_adult_covid_confirmed_unknown_7_day_sum',\n",
       "       'previous_day_admission_pediatric_covid_confirmed_7_day_sum',\n",
       "       'previous_day_covid_ED_visits_7_day_sum',\n",
       "       'previous_day_admission_adult_covid_suspected_7_day_sum',\n",
       "       'previous_day_admission_adult_covid_suspected_18-19_7_day_sum',\n",
       "       'previous_day_admission_adult_covid_suspected_20-29_7_day_sum',\n",
       "       'previous_day_admission_adult_covid_suspected_30-39_7_day_sum',\n",
       "       'previous_day_admission_adult_covid_suspected_40-49_7_day_sum',\n",
       "       'previous_day_admission_adult_covid_suspected_50-59_7_day_sum',\n",
       "       'previous_day_admission_adult_covid_suspected_60-69_7_day_sum',\n",
       "       'previous_day_admission_adult_covid_suspected_70-79_7_day_sum',\n",
       "       'previous_day_admission_adult_covid_suspected_80+_7_day_sum',\n",
       "       'previous_day_admission_adult_covid_suspected_unknown_7_day_sum',\n",
       "       'previous_day_admission_pediatric_covid_suspected_7_day_sum',\n",
       "       'previous_day_total_ED_visits_7_day_sum',\n",
       "       'previous_day_admission_influenza_confirmed_7_day_sum'],\n",
       "      dtype='object')"
      ]
     },
     "execution_count": 21,
     "metadata": {},
     "output_type": "execute_result"
    }
   ],
   "source": [
    "df.columns"
   ]
  },
  {
   "cell_type": "markdown",
   "metadata": {},
   "source": [
    "# Filtering"
   ]
  },
  {
   "cell_type": "code",
   "execution_count": 4,
   "metadata": {},
   "outputs": [],
   "source": [
    "df_ct= df[df['state']=='CT']"
   ]
  },
  {
   "cell_type": "code",
   "execution_count": 5,
   "metadata": {},
   "outputs": [],
   "source": [
    "df['collection_week'] =pd.to_datetime(df['collection_week'])"
   ]
  },
  {
   "cell_type": "markdown",
   "metadata": {},
   "source": [
    "This date marks the start of the collection week"
   ]
  },
  {
   "cell_type": "code",
   "execution_count": 6,
   "metadata": {},
   "outputs": [
    {
     "data": {
      "text/plain": [
       "'2020-11-27'"
      ]
     },
     "execution_count": 6,
     "metadata": {},
     "output_type": "execute_result"
    }
   ],
   "source": [
    "df_ct['collection_week'].max()"
   ]
  },
  {
   "cell_type": "code",
   "execution_count": 7,
   "metadata": {},
   "outputs": [
    {
     "data": {
      "text/plain": [
       "array(['DANBURY', 'NORWALK', 'BRIDGEPORT', 'GREENWICH', 'STAMFORD',\n",
       "       'NEW BRITAIN', 'HARTFORD', 'MANCHESTER', 'BRISTOL', 'FARMINGTON',\n",
       "       'TORRINGTON', 'SHARON', 'MIDDLETOWN', 'NEW HAVEN', 'BRANFORD',\n",
       "       'WATERBURY', 'MERIDEN', 'DERBY', 'WALLINGFORD', 'NEW LONDON',\n",
       "       'NORWICH', 'STAFFORD SPRINGS', 'ROCKVILLE', 'PUTNAM',\n",
       "       'WILLIMANTIC'], dtype=object)"
      ]
     },
     "execution_count": 7,
     "metadata": {},
     "output_type": "execute_result"
    }
   ],
   "source": [
    "df_ct[df_ct['collection_week'] == df_ct['collection_week'].max()]['city'].unique()"
   ]
  },
  {
   "cell_type": "code",
   "execution_count": 8,
   "metadata": {},
   "outputs": [],
   "source": [
    "df_latest = df_ct[df_ct['collection_week'] == df_ct['collection_week'].max()]"
   ]
  },
  {
   "cell_type": "code",
   "execution_count": 9,
   "metadata": {},
   "outputs": [],
   "source": [
    "#comparing with CHA list:\n",
    " # HOSPITAL FOR SPECIAL CARE, GAYLORD HOSPITAL INC and CONNECTICUT HOSPICE INC,THE don't feature in their list of acute hospitals"
   ]
  },
  {
   "cell_type": "code",
   "execution_count": 10,
   "metadata": {},
   "outputs": [
    {
     "data": {
      "text/plain": [
       "array(['DANBURY HOSPITAL', 'NORWALK HOSPITAL',\n",
       "       \"ST VINCENT'S MEDICAL CENTER\", 'GREENWICH HOSPITAL ASSOCIATION -',\n",
       "       'BRIDGEPORT HOSPITAL', 'STAMFORD HOSPITAL',\n",
       "       'HOSPITAL FOR SPECIAL CARE', 'HARTFORD HOSPITAL',\n",
       "       'CONNECTICUT CHILDRENS MEDICAL CENTER',\n",
       "       'MANCHESTER MEMORIAL HOSPITAL', 'BRISTOL HOSPITAL',\n",
       "       'HOSPITAL OF CENTRAL CONNECTICUT, THE', 'JOHN DEMPSEY HOSPITAL',\n",
       "       'ST FRANCIS HOSPITAL & MEDICAL CENTER',\n",
       "       'CHARLOTTE HUNGERFORD HOSPITAL', 'SHARON HOSPITAL',\n",
       "       'MIDDLESEX HOSPITAL', 'YALE-NEW HAVEN HOSPITAL',\n",
       "       'CONNECTICUT HOSPICE INC,THE', \"SAINT MARY'S HOSPITAL\",\n",
       "       'MIDSTATE MEDICAL CENTER', 'GRIFFIN HOSPITAL',\n",
       "       'GAYLORD HOSPITAL INC', 'WATERBURY HOSPITAL',\n",
       "       'LAWRENCE & MEMORIAL HOSPITAL', 'WILLIAM W BACKUS HOSPITAL',\n",
       "       'JOHNSON MEMORIAL HOSPITAL', 'ROCKVILLE GENERAL HOSPITAL',\n",
       "       'DAY KIMBALL HOSPITAL', 'WINDHAM COMM MEM HOSP & HATCH HOSP'],\n",
       "      dtype=object)"
      ]
     },
     "execution_count": 10,
     "metadata": {},
     "output_type": "execute_result"
    }
   ],
   "source": [
    "df_latest['hospital_name'].unique()"
   ]
  },
  {
   "cell_type": "code",
   "execution_count": 11,
   "metadata": {
    "scrolled": true
   },
   "outputs": [
    {
     "data": {
      "text/plain": [
       "HARTFORD            3\n",
       "BRIDGEPORT          2\n",
       "NEW BRITAIN         2\n",
       "WATERBURY           2\n",
       "STAMFORD            1\n",
       "BRANFORD            1\n",
       "NORWICH             1\n",
       "MERIDEN             1\n",
       "DANBURY             1\n",
       "NEW LONDON          1\n",
       "WILLIMANTIC         1\n",
       "FARMINGTON          1\n",
       "WALLINGFORD         1\n",
       "NEW HAVEN           1\n",
       "NORWALK             1\n",
       "PUTNAM              1\n",
       "ROCKVILLE           1\n",
       "MANCHESTER          1\n",
       "GREENWICH           1\n",
       "BRISTOL             1\n",
       "SHARON              1\n",
       "TORRINGTON          1\n",
       "MIDDLETOWN          1\n",
       "DERBY               1\n",
       "STAFFORD SPRINGS    1\n",
       "Name: city, dtype: int64"
      ]
     },
     "execution_count": 11,
     "metadata": {},
     "output_type": "execute_result"
    }
   ],
   "source": [
    "df_latest['city'].value_counts()"
   ]
  },
  {
   "cell_type": "markdown",
   "metadata": {},
   "source": [
    "# Formulae to calculate hospital capacity"
   ]
  },
  {
   "cell_type": "markdown",
   "metadata": {},
   "source": [
    "GitHub documentation of dataset; negative values indicate suppressed values\n",
    "https://github.com/CareSet/COVID_Hospital_PUF?src=hd\n",
    "\n",
    "Where HHS results may differ from CHA values:\n",
    "- using 7 day averages for all numbers, not daily (dataset updated once a week) \n",
    "- different ways of handling missing values; numbers reported to HHSdaily and aggregated over the week; discrepancies may arise if a hospital misses a day of reporting, say.\n",
    "- using staffed, adult beds in ICU nummbers\n",
    "- inpatient beds do not make a distinction between adult and staffed in the same way \n",
    "- definition of a bed \n",
    "- three facilities in this dataset do not appear in CHA's list"
   ]
  },
  {
   "cell_type": "code",
   "execution_count": 12,
   "metadata": {},
   "outputs": [],
   "source": [
    "def calculate_hosp_icu_capacity(hosp):\n",
    "    return pd.Series(df_latest[df_latest['hospital_name'] == hosp]['staffed_adult_icu_bed_occupancy_7_day_avg']/df_latest[df_latest['hospital_name'] == hosp]['total_staffed_adult_icu_beds_7_day_avg']).values[0]"
   ]
  },
  {
   "cell_type": "code",
   "execution_count": 13,
   "metadata": {},
   "outputs": [],
   "source": [
    "def calculate_hosp_icus(hosp):\n",
    "    return pd.Series(df_latest[df_latest['hospital_name'] == hosp]['total_staffed_adult_icu_beds_7_day_avg']).values[0]"
   ]
  },
  {
   "cell_type": "code",
   "execution_count": 14,
   "metadata": {},
   "outputs": [],
   "source": [
    "def calculate_hosp_inpatient_capacity(hosp):\n",
    "    return pd.Series(df_latest[df_latest['hospital_name'] == hosp]['inpatient_beds_used_7_day_avg']/df_latest[df_latest['hospital_name'] == hosp]['inpatient_beds_7_day_avg']).values[0]"
   ]
  },
  {
   "cell_type": "code",
   "execution_count": 15,
   "metadata": {},
   "outputs": [],
   "source": [
    "def calculate_hosp_inpatient_beds(hosp):\n",
    "    return pd.Series(df_latest[df_latest['hospital_name'] == hosp]['inpatient_beds_7_day_avg']).values[0]"
   ]
  },
  {
   "cell_type": "code",
   "execution_count": 16,
   "metadata": {},
   "outputs": [],
   "source": [
    "def city(hosp):\n",
    "    return pd.Series(df_latest[df_latest['hospital_name'] == hosp]['city']).values[0]"
   ]
  },
  {
   "cell_type": "code",
   "execution_count": 17,
   "metadata": {},
   "outputs": [
    {
     "data": {
      "text/plain": [
       "0.809375"
      ]
     },
     "execution_count": 17,
     "metadata": {},
     "output_type": "execute_result"
    }
   ],
   "source": [
    "calculate_hosp_icu_capacity('STAMFORD HOSPITAL')"
   ]
  },
  {
   "cell_type": "code",
   "execution_count": 18,
   "metadata": {},
   "outputs": [
    {
     "data": {
      "text/plain": [
       "0.8593489148580968"
      ]
     },
     "execution_count": 18,
     "metadata": {},
     "output_type": "execute_result"
    }
   ],
   "source": [
    "calculate_hosp_inpatient_capacity('STAMFORD HOSPITAL')"
   ]
  },
  {
   "cell_type": "code",
   "execution_count": 19,
   "metadata": {},
   "outputs": [],
   "source": [
    "list_hosp_capacity = []\n",
    "for hosp in list(df_latest['hospital_name'].unique()):\n",
    "    dict_hosp = {}\n",
    "    dict_hosp['name']= hosp\n",
    "    dict_hosp['city']= city(hosp)\n",
    "    dict_hosp['% Adult, Staffed ICUs Occupied'] = round(100*calculate_hosp_icu_capacity(hosp),2)\n",
    "    dict_hosp['% Inpatient beds used'] = round(100*calculate_hosp_inpatient_capacity(hosp),2)\n",
    "    dict_hosp['ICUs Available'] = calculate_hosp_icus(hosp)\n",
    "    dict_hosp['Inpatient beds available'] = calculate_hosp_inpatient_beds(hosp)\n",
    "    list_hosp_capacity += [dict_hosp]\n"
   ]
  },
  {
   "cell_type": "code",
   "execution_count": 20,
   "metadata": {},
   "outputs": [],
   "source": [
    "#notes on data: negative values indicate suppressed numbers; percentages may exceed 100 if a hospital is operating above capacity\n",
    "#"
   ]
  },
  {
   "cell_type": "code",
   "execution_count": 82,
   "metadata": {},
   "outputs": [
    {
     "data": {
      "text/html": [
       "<div>\n",
       "<style scoped>\n",
       "    .dataframe tbody tr th:only-of-type {\n",
       "        vertical-align: middle;\n",
       "    }\n",
       "\n",
       "    .dataframe tbody tr th {\n",
       "        vertical-align: top;\n",
       "    }\n",
       "\n",
       "    .dataframe thead th {\n",
       "        text-align: right;\n",
       "    }\n",
       "</style>\n",
       "<table border=\"1\" class=\"dataframe\">\n",
       "  <thead>\n",
       "    <tr style=\"text-align: right;\">\n",
       "      <th></th>\n",
       "      <th>name</th>\n",
       "      <th>city</th>\n",
       "      <th>% Adult, Staffed ICUs Occupied</th>\n",
       "      <th>% Inpatient beds used</th>\n",
       "      <th>ICUs Available</th>\n",
       "      <th>Inpatient beds available</th>\n",
       "    </tr>\n",
       "  </thead>\n",
       "  <tbody>\n",
       "    <tr>\n",
       "      <th>0</th>\n",
       "      <td>DANBURY HOSPITAL</td>\n",
       "      <td>DANBURY</td>\n",
       "      <td>80.50</td>\n",
       "      <td>80.51</td>\n",
       "      <td>20.0</td>\n",
       "      <td>319.6</td>\n",
       "    </tr>\n",
       "    <tr>\n",
       "      <th>1</th>\n",
       "      <td>NORWALK HOSPITAL</td>\n",
       "      <td>NORWALK</td>\n",
       "      <td>36.33</td>\n",
       "      <td>49.25</td>\n",
       "      <td>30.0</td>\n",
       "      <td>293.0</td>\n",
       "    </tr>\n",
       "    <tr>\n",
       "      <th>2</th>\n",
       "      <td>ST VINCENT'S MEDICAL CENTER</td>\n",
       "      <td>BRIDGEPORT</td>\n",
       "      <td>28.64</td>\n",
       "      <td>69.90</td>\n",
       "      <td>66.0</td>\n",
       "      <td>315.6</td>\n",
       "    </tr>\n",
       "    <tr>\n",
       "      <th>3</th>\n",
       "      <td>GREENWICH HOSPITAL ASSOCIATION -</td>\n",
       "      <td>GREENWICH</td>\n",
       "      <td>38.67</td>\n",
       "      <td>64.83</td>\n",
       "      <td>30.0</td>\n",
       "      <td>205.0</td>\n",
       "    </tr>\n",
       "    <tr>\n",
       "      <th>4</th>\n",
       "      <td>BRIDGEPORT HOSPITAL</td>\n",
       "      <td>BRIDGEPORT</td>\n",
       "      <td>86.30</td>\n",
       "      <td>50.46</td>\n",
       "      <td>54.0</td>\n",
       "      <td>735.0</td>\n",
       "    </tr>\n",
       "    <tr>\n",
       "      <th>5</th>\n",
       "      <td>STAMFORD HOSPITAL</td>\n",
       "      <td>STAMFORD</td>\n",
       "      <td>80.94</td>\n",
       "      <td>85.93</td>\n",
       "      <td>32.0</td>\n",
       "      <td>239.6</td>\n",
       "    </tr>\n",
       "    <tr>\n",
       "      <th>6</th>\n",
       "      <td>HOSPITAL FOR SPECIAL CARE</td>\n",
       "      <td>NEW BRITAIN</td>\n",
       "      <td>100.00</td>\n",
       "      <td>90.76</td>\n",
       "      <td>-999999.0</td>\n",
       "      <td>237.0</td>\n",
       "    </tr>\n",
       "    <tr>\n",
       "      <th>7</th>\n",
       "      <td>HARTFORD HOSPITAL</td>\n",
       "      <td>HARTFORD</td>\n",
       "      <td>46.58</td>\n",
       "      <td>87.39</td>\n",
       "      <td>158.0</td>\n",
       "      <td>846.3</td>\n",
       "    </tr>\n",
       "    <tr>\n",
       "      <th>8</th>\n",
       "      <td>CONNECTICUT CHILDRENS MEDICAL CENTER</td>\n",
       "      <td>HARTFORD</td>\n",
       "      <td>100.00</td>\n",
       "      <td>63.06</td>\n",
       "      <td>-999999.0</td>\n",
       "      <td>183.0</td>\n",
       "    </tr>\n",
       "    <tr>\n",
       "      <th>9</th>\n",
       "      <td>MANCHESTER MEMORIAL HOSPITAL</td>\n",
       "      <td>MANCHESTER</td>\n",
       "      <td>86.82</td>\n",
       "      <td>71.28</td>\n",
       "      <td>22.0</td>\n",
       "      <td>211.0</td>\n",
       "    </tr>\n",
       "    <tr>\n",
       "      <th>10</th>\n",
       "      <td>BRISTOL HOSPITAL</td>\n",
       "      <td>BRISTOL</td>\n",
       "      <td>73.57</td>\n",
       "      <td>64.48</td>\n",
       "      <td>14.0</td>\n",
       "      <td>134.0</td>\n",
       "    </tr>\n",
       "    <tr>\n",
       "      <th>11</th>\n",
       "      <td>HOSPITAL OF CENTRAL CONNECTICUT, THE</td>\n",
       "      <td>NEW BRITAIN</td>\n",
       "      <td>48.91</td>\n",
       "      <td>74.03</td>\n",
       "      <td>55.0</td>\n",
       "      <td>275.7</td>\n",
       "    </tr>\n",
       "    <tr>\n",
       "      <th>12</th>\n",
       "      <td>JOHN DEMPSEY HOSPITAL</td>\n",
       "      <td>FARMINGTON</td>\n",
       "      <td>70.00</td>\n",
       "      <td>72.02</td>\n",
       "      <td>28.0</td>\n",
       "      <td>223.0</td>\n",
       "    </tr>\n",
       "    <tr>\n",
       "      <th>13</th>\n",
       "      <td>ST FRANCIS HOSPITAL &amp; MEDICAL CENTER</td>\n",
       "      <td>HARTFORD</td>\n",
       "      <td>92.54</td>\n",
       "      <td>67.72</td>\n",
       "      <td>42.9</td>\n",
       "      <td>504.0</td>\n",
       "    </tr>\n",
       "    <tr>\n",
       "      <th>14</th>\n",
       "      <td>CHARLOTTE HUNGERFORD HOSPITAL</td>\n",
       "      <td>TORRINGTON</td>\n",
       "      <td>26.36</td>\n",
       "      <td>59.49</td>\n",
       "      <td>33.0</td>\n",
       "      <td>136.0</td>\n",
       "    </tr>\n",
       "    <tr>\n",
       "      <th>15</th>\n",
       "      <td>SHARON HOSPITAL</td>\n",
       "      <td>SHARON</td>\n",
       "      <td>52.22</td>\n",
       "      <td>52.83</td>\n",
       "      <td>9.0</td>\n",
       "      <td>60.0</td>\n",
       "    </tr>\n",
       "    <tr>\n",
       "      <th>16</th>\n",
       "      <td>MIDDLESEX HOSPITAL</td>\n",
       "      <td>MIDDLETOWN</td>\n",
       "      <td>90.42</td>\n",
       "      <td>91.99</td>\n",
       "      <td>24.0</td>\n",
       "      <td>188.4</td>\n",
       "    </tr>\n",
       "    <tr>\n",
       "      <th>17</th>\n",
       "      <td>YALE-NEW HAVEN HOSPITAL</td>\n",
       "      <td>NEW HAVEN</td>\n",
       "      <td>76.86</td>\n",
       "      <td>76.73</td>\n",
       "      <td>195.3</td>\n",
       "      <td>1580.0</td>\n",
       "    </tr>\n",
       "    <tr>\n",
       "      <th>18</th>\n",
       "      <td>CONNECTICUT HOSPICE INC,THE</td>\n",
       "      <td>BRANFORD</td>\n",
       "      <td>100.00</td>\n",
       "      <td>17.88</td>\n",
       "      <td>-999999.0</td>\n",
       "      <td>52.0</td>\n",
       "    </tr>\n",
       "    <tr>\n",
       "      <th>19</th>\n",
       "      <td>SAINT MARY'S HOSPITAL</td>\n",
       "      <td>WATERBURY</td>\n",
       "      <td>54.75</td>\n",
       "      <td>90.69</td>\n",
       "      <td>40.0</td>\n",
       "      <td>147.1</td>\n",
       "    </tr>\n",
       "    <tr>\n",
       "      <th>20</th>\n",
       "      <td>MIDSTATE MEDICAL CENTER</td>\n",
       "      <td>MERIDEN</td>\n",
       "      <td>21.00</td>\n",
       "      <td>78.08</td>\n",
       "      <td>40.0</td>\n",
       "      <td>148.7</td>\n",
       "    </tr>\n",
       "    <tr>\n",
       "      <th>21</th>\n",
       "      <td>GRIFFIN HOSPITAL</td>\n",
       "      <td>DERBY</td>\n",
       "      <td>35.67</td>\n",
       "      <td>79.67</td>\n",
       "      <td>30.0</td>\n",
       "      <td>120.0</td>\n",
       "    </tr>\n",
       "    <tr>\n",
       "      <th>22</th>\n",
       "      <td>GAYLORD HOSPITAL INC</td>\n",
       "      <td>WALLINGFORD</td>\n",
       "      <td>100.00</td>\n",
       "      <td>93.11</td>\n",
       "      <td>-999999.0</td>\n",
       "      <td>122.0</td>\n",
       "    </tr>\n",
       "    <tr>\n",
       "      <th>23</th>\n",
       "      <td>WATERBURY HOSPITAL</td>\n",
       "      <td>WATERBURY</td>\n",
       "      <td>70.36</td>\n",
       "      <td>85.91</td>\n",
       "      <td>28.0</td>\n",
       "      <td>225.0</td>\n",
       "    </tr>\n",
       "    <tr>\n",
       "      <th>24</th>\n",
       "      <td>LAWRENCE &amp; MEMORIAL HOSPITAL</td>\n",
       "      <td>NEW LONDON</td>\n",
       "      <td>88.50</td>\n",
       "      <td>73.81</td>\n",
       "      <td>20.0</td>\n",
       "      <td>260.0</td>\n",
       "    </tr>\n",
       "    <tr>\n",
       "      <th>25</th>\n",
       "      <td>WILLIAM W BACKUS HOSPITAL</td>\n",
       "      <td>NORWICH</td>\n",
       "      <td>18.93</td>\n",
       "      <td>80.62</td>\n",
       "      <td>56.0</td>\n",
       "      <td>180.6</td>\n",
       "    </tr>\n",
       "    <tr>\n",
       "      <th>26</th>\n",
       "      <td>JOHNSON MEMORIAL HOSPITAL</td>\n",
       "      <td>STAFFORD SPRINGS</td>\n",
       "      <td>58.57</td>\n",
       "      <td>63.64</td>\n",
       "      <td>7.0</td>\n",
       "      <td>55.0</td>\n",
       "    </tr>\n",
       "    <tr>\n",
       "      <th>27</th>\n",
       "      <td>ROCKVILLE GENERAL HOSPITAL</td>\n",
       "      <td>ROCKVILLE</td>\n",
       "      <td>-4166662.50</td>\n",
       "      <td>-1408449.30</td>\n",
       "      <td>24.0</td>\n",
       "      <td>71.0</td>\n",
       "    </tr>\n",
       "    <tr>\n",
       "      <th>28</th>\n",
       "      <td>DAY KIMBALL HOSPITAL</td>\n",
       "      <td>PUTNAM</td>\n",
       "      <td>-16666650.00</td>\n",
       "      <td>79.44</td>\n",
       "      <td>6.0</td>\n",
       "      <td>54.0</td>\n",
       "    </tr>\n",
       "    <tr>\n",
       "      <th>29</th>\n",
       "      <td>WINDHAM COMM MEM HOSP &amp; HATCH HOSP</td>\n",
       "      <td>WILLIMANTIC</td>\n",
       "      <td>-9090900.00</td>\n",
       "      <td>79.96</td>\n",
       "      <td>11.0</td>\n",
       "      <td>53.4</td>\n",
       "    </tr>\n",
       "  </tbody>\n",
       "</table>\n",
       "</div>"
      ],
      "text/plain": [
       "                                    name              city  \\\n",
       "0                       DANBURY HOSPITAL           DANBURY   \n",
       "1                       NORWALK HOSPITAL           NORWALK   \n",
       "2            ST VINCENT'S MEDICAL CENTER        BRIDGEPORT   \n",
       "3       GREENWICH HOSPITAL ASSOCIATION -         GREENWICH   \n",
       "4                    BRIDGEPORT HOSPITAL        BRIDGEPORT   \n",
       "5                      STAMFORD HOSPITAL          STAMFORD   \n",
       "6              HOSPITAL FOR SPECIAL CARE       NEW BRITAIN   \n",
       "7                      HARTFORD HOSPITAL          HARTFORD   \n",
       "8   CONNECTICUT CHILDRENS MEDICAL CENTER          HARTFORD   \n",
       "9           MANCHESTER MEMORIAL HOSPITAL        MANCHESTER   \n",
       "10                      BRISTOL HOSPITAL           BRISTOL   \n",
       "11  HOSPITAL OF CENTRAL CONNECTICUT, THE       NEW BRITAIN   \n",
       "12                 JOHN DEMPSEY HOSPITAL        FARMINGTON   \n",
       "13  ST FRANCIS HOSPITAL & MEDICAL CENTER          HARTFORD   \n",
       "14         CHARLOTTE HUNGERFORD HOSPITAL        TORRINGTON   \n",
       "15                       SHARON HOSPITAL            SHARON   \n",
       "16                    MIDDLESEX HOSPITAL        MIDDLETOWN   \n",
       "17               YALE-NEW HAVEN HOSPITAL         NEW HAVEN   \n",
       "18           CONNECTICUT HOSPICE INC,THE          BRANFORD   \n",
       "19                 SAINT MARY'S HOSPITAL         WATERBURY   \n",
       "20               MIDSTATE MEDICAL CENTER           MERIDEN   \n",
       "21                      GRIFFIN HOSPITAL             DERBY   \n",
       "22                  GAYLORD HOSPITAL INC       WALLINGFORD   \n",
       "23                    WATERBURY HOSPITAL         WATERBURY   \n",
       "24          LAWRENCE & MEMORIAL HOSPITAL        NEW LONDON   \n",
       "25             WILLIAM W BACKUS HOSPITAL           NORWICH   \n",
       "26             JOHNSON MEMORIAL HOSPITAL  STAFFORD SPRINGS   \n",
       "27            ROCKVILLE GENERAL HOSPITAL         ROCKVILLE   \n",
       "28                  DAY KIMBALL HOSPITAL            PUTNAM   \n",
       "29    WINDHAM COMM MEM HOSP & HATCH HOSP       WILLIMANTIC   \n",
       "\n",
       "    % Adult, Staffed ICUs Occupied  % Inpatient beds used  ICUs Available  \\\n",
       "0                            80.50                  80.51            20.0   \n",
       "1                            36.33                  49.25            30.0   \n",
       "2                            28.64                  69.90            66.0   \n",
       "3                            38.67                  64.83            30.0   \n",
       "4                            86.30                  50.46            54.0   \n",
       "5                            80.94                  85.93            32.0   \n",
       "6                           100.00                  90.76       -999999.0   \n",
       "7                            46.58                  87.39           158.0   \n",
       "8                           100.00                  63.06       -999999.0   \n",
       "9                            86.82                  71.28            22.0   \n",
       "10                           73.57                  64.48            14.0   \n",
       "11                           48.91                  74.03            55.0   \n",
       "12                           70.00                  72.02            28.0   \n",
       "13                           92.54                  67.72            42.9   \n",
       "14                           26.36                  59.49            33.0   \n",
       "15                           52.22                  52.83             9.0   \n",
       "16                           90.42                  91.99            24.0   \n",
       "17                           76.86                  76.73           195.3   \n",
       "18                          100.00                  17.88       -999999.0   \n",
       "19                           54.75                  90.69            40.0   \n",
       "20                           21.00                  78.08            40.0   \n",
       "21                           35.67                  79.67            30.0   \n",
       "22                          100.00                  93.11       -999999.0   \n",
       "23                           70.36                  85.91            28.0   \n",
       "24                           88.50                  73.81            20.0   \n",
       "25                           18.93                  80.62            56.0   \n",
       "26                           58.57                  63.64             7.0   \n",
       "27                     -4166662.50            -1408449.30            24.0   \n",
       "28                    -16666650.00                  79.44             6.0   \n",
       "29                     -9090900.00                  79.96            11.0   \n",
       "\n",
       "    Inpatient beds available  \n",
       "0                      319.6  \n",
       "1                      293.0  \n",
       "2                      315.6  \n",
       "3                      205.0  \n",
       "4                      735.0  \n",
       "5                      239.6  \n",
       "6                      237.0  \n",
       "7                      846.3  \n",
       "8                      183.0  \n",
       "9                      211.0  \n",
       "10                     134.0  \n",
       "11                     275.7  \n",
       "12                     223.0  \n",
       "13                     504.0  \n",
       "14                     136.0  \n",
       "15                      60.0  \n",
       "16                     188.4  \n",
       "17                    1580.0  \n",
       "18                      52.0  \n",
       "19                     147.1  \n",
       "20                     148.7  \n",
       "21                     120.0  \n",
       "22                     122.0  \n",
       "23                     225.0  \n",
       "24                     260.0  \n",
       "25                     180.6  \n",
       "26                      55.0  \n",
       "27                      71.0  \n",
       "28                      54.0  \n",
       "29                      53.4  "
      ]
     },
     "execution_count": 82,
     "metadata": {},
     "output_type": "execute_result"
    }
   ],
   "source": [
    "pd.DataFrame(list_hosp_capacity)"
   ]
  },
  {
   "cell_type": "markdown",
   "metadata": {},
   "source": [
    "Questions:\n",
    "- Find source of discrepancy with CHA data\n",
    "- Examine calculations of state-level estimates\n",
    "- Aggregate on city level? Have to figure out how to handle suppressed values\n",
    "- What's the story here? \n",
    "- Further analysis: Dataset includes age breakdowns of COVID patients, need to see how to clean it before I can work with it"
   ]
  },
  {
   "cell_type": "markdown",
   "metadata": {},
   "source": [
    "# COVID in CT hospitals"
   ]
  },
  {
   "cell_type": "code",
   "execution_count": 24,
   "metadata": {},
   "outputs": [
    {
     "name": "stdout",
     "output_type": "stream",
     "text": [
      "total_adult_patients_hospitalized_confirmed_and_suspected_covid_7_day_avg\n",
      "total_adult_patients_hospitalized_confirmed_covid_7_day_avg\n",
      "total_pediatric_patients_hospitalized_confirmed_and_suspected_covid_7_day_avg\n",
      "total_pediatric_patients_hospitalized_confirmed_covid_7_day_avg\n",
      "staffed_icu_adult_patients_confirmed_and_suspected_covid_7_day_avg\n",
      "staffed_icu_adult_patients_confirmed_covid_7_day_avg\n",
      "total_patients_hospitalized_confirmed_influenza_and_covid_7_day_avg\n",
      "total_adult_patients_hospitalized_confirmed_and_suspected_covid_7_day_sum\n",
      "total_adult_patients_hospitalized_confirmed_covid_7_day_sum\n",
      "total_pediatric_patients_hospitalized_confirmed_and_suspected_covid_7_day_sum\n",
      "total_pediatric_patients_hospitalized_confirmed_covid_7_day_sum\n",
      "staffed_icu_adult_patients_confirmed_and_suspected_covid_7_day_sum\n",
      "staffed_icu_adult_patients_confirmed_covid_7_day_sum\n",
      "total_patients_hospitalized_confirmed_influenza_and_covid_7_day_sum\n",
      "total_adult_patients_hospitalized_confirmed_and_suspected_covid_7_day_coverage\n",
      "total_adult_patients_hospitalized_confirmed_covid_7_day_coverage\n",
      "total_pediatric_patients_hospitalized_confirmed_and_suspected_covid_7_day_coverage\n",
      "total_pediatric_patients_hospitalized_confirmed_covid_7_day_coverage\n",
      "staffed_icu_adult_patients_confirmed_and_suspected_covid_7_day_coverage\n",
      "staffed_icu_adult_patients_confirmed_covid_7_day_coverage\n",
      "total_patients_hospitalized_confirmed_influenza_and_covid_7_day_coverage\n",
      "previous_day_admission_adult_covid_confirmed_7_day_sum\n",
      "previous_day_admission_adult_covid_confirmed_18-19_7_day_sum\n",
      "previous_day_admission_adult_covid_confirmed_20-29_7_day_sum\n",
      "previous_day_admission_adult_covid_confirmed_30-39_7_day_sum\n",
      "previous_day_admission_adult_covid_confirmed_40-49_7_day_sum\n",
      "previous_day_admission_adult_covid_confirmed_50-59_7_day_sum\n",
      "previous_day_admission_adult_covid_confirmed_60-69_7_day_sum\n",
      "previous_day_admission_adult_covid_confirmed_70-79_7_day_sum\n",
      "previous_day_admission_adult_covid_confirmed_80+_7_day_sum\n",
      "previous_day_admission_adult_covid_confirmed_unknown_7_day_sum\n",
      "previous_day_admission_pediatric_covid_confirmed_7_day_sum\n",
      "previous_day_covid_ED_visits_7_day_sum\n",
      "previous_day_admission_adult_covid_suspected_7_day_sum\n",
      "previous_day_admission_adult_covid_suspected_18-19_7_day_sum\n",
      "previous_day_admission_adult_covid_suspected_20-29_7_day_sum\n",
      "previous_day_admission_adult_covid_suspected_30-39_7_day_sum\n",
      "previous_day_admission_adult_covid_suspected_40-49_7_day_sum\n",
      "previous_day_admission_adult_covid_suspected_50-59_7_day_sum\n",
      "previous_day_admission_adult_covid_suspected_60-69_7_day_sum\n",
      "previous_day_admission_adult_covid_suspected_70-79_7_day_sum\n",
      "previous_day_admission_adult_covid_suspected_80+_7_day_sum\n",
      "previous_day_admission_adult_covid_suspected_unknown_7_day_sum\n",
      "previous_day_admission_pediatric_covid_suspected_7_day_sum\n"
     ]
    }
   ],
   "source": [
    "for column in list(df_latest.columns):\n",
    "    if 'covid' in column:\n",
    "        print(column)"
   ]
  },
  {
   "cell_type": "code",
   "execution_count": null,
   "metadata": {},
   "outputs": [],
   "source": []
  }
 ],
 "metadata": {
  "kernelspec": {
   "display_name": "Python 3",
   "language": "python",
   "name": "python3"
  },
  "language_info": {
   "codemirror_mode": {
    "name": "ipython",
    "version": 3
   },
   "file_extension": ".py",
   "mimetype": "text/x-python",
   "name": "python",
   "nbconvert_exporter": "python",
   "pygments_lexer": "ipython3",
   "version": "3.7.1"
  }
 },
 "nbformat": 4,
 "nbformat_minor": 4
}
