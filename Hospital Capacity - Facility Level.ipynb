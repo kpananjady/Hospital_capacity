{
 "cells": [
  {
   "cell_type": "markdown",
   "metadata": {},
   "source": [
    "# What this file does"
   ]
  },
  {
   "cell_type": "markdown",
   "metadata": {},
   "source": [
    "Looks at facility level data provided by Health and Human Services to assess hospital capacity. Skip to the \"Formulae\" section to see results."
   ]
  },
  {
   "cell_type": "code",
   "execution_count": 53,
   "metadata": {},
   "outputs": [],
   "source": [
    "import pandas as pd"
   ]
  },
  {
   "cell_type": "markdown",
   "metadata": {},
   "source": [
    "# Tools"
   ]
  },
  {
   "cell_type": "code",
   "execution_count": 54,
   "metadata": {},
   "outputs": [],
   "source": [
    "df = pd.read_csv('reported_hospital_capacity_admissions_facility_level_weekly_average_timeseries_20201221_0.csv')"
   ]
  },
  {
   "cell_type": "code",
   "execution_count": 55,
   "metadata": {},
   "outputs": [],
   "source": [
    "#columns;pediatric estimates seem to be negative (suppressed?)"
   ]
  },
  {
   "cell_type": "code",
   "execution_count": 56,
   "metadata": {},
   "outputs": [
    {
     "data": {
      "text/plain": [
       "Index(['hospital_pk', 'collection_week', 'state', 'ccn', 'hospital_name',\n",
       "       'address', 'city', 'zip', 'hospital_subtype', 'fips_code',\n",
       "       'is_metro_micro', 'total_beds_7_day_avg',\n",
       "       'all_adult_hospital_beds_7_day_avg',\n",
       "       'all_adult_hospital_inpatient_beds_7_day_avg',\n",
       "       'inpatient_beds_used_7_day_avg',\n",
       "       'all_adult_hospital_inpatient_bed_occupied_7_day_avg',\n",
       "       'total_adult_patients_hospitalized_confirmed_and_suspected_covid_7_day_avg',\n",
       "       'total_adult_patients_hospitalized_confirmed_covid_7_day_avg',\n",
       "       'total_pediatric_patients_hospitalized_confirmed_and_suspected_covid_7_day_avg',\n",
       "       'total_pediatric_patients_hospitalized_confirmed_covid_7_day_avg',\n",
       "       'inpatient_beds_7_day_avg', 'total_icu_beds_7_day_avg',\n",
       "       'total_staffed_adult_icu_beds_7_day_avg', 'icu_beds_used_7_day_avg',\n",
       "       'staffed_adult_icu_bed_occupancy_7_day_avg',\n",
       "       'staffed_icu_adult_patients_confirmed_and_suspected_covid_7_day_avg',\n",
       "       'staffed_icu_adult_patients_confirmed_covid_7_day_avg',\n",
       "       'total_patients_hospitalized_confirmed_influenza_7_day_avg',\n",
       "       'icu_patients_confirmed_influenza_7_day_avg',\n",
       "       'total_patients_hospitalized_confirmed_influenza_and_covid_7_day_avg',\n",
       "       'total_beds_7_day_sum', 'all_adult_hospital_beds_7_day_sum',\n",
       "       'all_adult_hospital_inpatient_beds_7_day_sum',\n",
       "       'inpatient_beds_used_7_day_sum',\n",
       "       'all_adult_hospital_inpatient_bed_occupied_7_day_sum',\n",
       "       'total_adult_patients_hospitalized_confirmed_and_suspected_covid_7_day_sum',\n",
       "       'total_adult_patients_hospitalized_confirmed_covid_7_day_sum',\n",
       "       'total_pediatric_patients_hospitalized_confirmed_and_suspected_covid_7_day_sum',\n",
       "       'total_pediatric_patients_hospitalized_confirmed_covid_7_day_sum',\n",
       "       'inpatient_beds_7_day_sum', 'total_icu_beds_7_day_sum',\n",
       "       'total_staffed_adult_icu_beds_7_day_sum', 'icu_beds_used_7_day_sum',\n",
       "       'staffed_adult_icu_bed_occupancy_7_day_sum',\n",
       "       'staffed_icu_adult_patients_confirmed_and_suspected_covid_7_day_sum',\n",
       "       'staffed_icu_adult_patients_confirmed_covid_7_day_sum',\n",
       "       'total_patients_hospitalized_confirmed_influenza_7_day_sum',\n",
       "       'icu_patients_confirmed_influenza_7_day_sum',\n",
       "       'total_patients_hospitalized_confirmed_influenza_and_covid_7_day_sum',\n",
       "       'total_beds_7_day_coverage', 'all_adult_hospital_beds_7_day_coverage',\n",
       "       'all_adult_hospital_inpatient_beds_7_day_coverage',\n",
       "       'inpatient_beds_used_7_day_coverage',\n",
       "       'all_adult_hospital_inpatient_bed_occupied_7_day_coverage',\n",
       "       'total_adult_patients_hospitalized_confirmed_and_suspected_covid_7_day_coverage',\n",
       "       'total_adult_patients_hospitalized_confirmed_covid_7_day_coverage',\n",
       "       'total_pediatric_patients_hospitalized_confirmed_and_suspected_covid_7_day_coverage',\n",
       "       'total_pediatric_patients_hospitalized_confirmed_covid_7_day_coverage',\n",
       "       'inpatient_beds_7_day_coverage', 'total_icu_beds_7_day_coverage',\n",
       "       'total_staffed_adult_icu_beds_7_day_coverage',\n",
       "       'icu_beds_used_7_day_coverage',\n",
       "       'staffed_adult_icu_bed_occupancy_7_day_coverage',\n",
       "       'staffed_icu_adult_patients_confirmed_and_suspected_covid_7_day_coverage',\n",
       "       'staffed_icu_adult_patients_confirmed_covid_7_day_coverage',\n",
       "       'total_patients_hospitalized_confirmed_influenza_7_day_coverage',\n",
       "       'icu_patients_confirmed_influenza_7_day_coverage',\n",
       "       'total_patients_hospitalized_confirmed_influenza_and_covid_7_day_coverage',\n",
       "       'previous_day_admission_adult_covid_confirmed_7_day_sum',\n",
       "       'previous_day_admission_adult_covid_confirmed_18-19_7_day_sum',\n",
       "       'previous_day_admission_adult_covid_confirmed_20-29_7_day_sum',\n",
       "       'previous_day_admission_adult_covid_confirmed_30-39_7_day_sum',\n",
       "       'previous_day_admission_adult_covid_confirmed_40-49_7_day_sum',\n",
       "       'previous_day_admission_adult_covid_confirmed_50-59_7_day_sum',\n",
       "       'previous_day_admission_adult_covid_confirmed_60-69_7_day_sum',\n",
       "       'previous_day_admission_adult_covid_confirmed_70-79_7_day_sum',\n",
       "       'previous_day_admission_adult_covid_confirmed_80+_7_day_sum',\n",
       "       'previous_day_admission_adult_covid_confirmed_unknown_7_day_sum',\n",
       "       'previous_day_admission_pediatric_covid_confirmed_7_day_sum',\n",
       "       'previous_day_covid_ED_visits_7_day_sum',\n",
       "       'previous_day_admission_adult_covid_suspected_7_day_sum',\n",
       "       'previous_day_admission_adult_covid_suspected_18-19_7_day_sum',\n",
       "       'previous_day_admission_adult_covid_suspected_20-29_7_day_sum',\n",
       "       'previous_day_admission_adult_covid_suspected_30-39_7_day_sum',\n",
       "       'previous_day_admission_adult_covid_suspected_40-49_7_day_sum',\n",
       "       'previous_day_admission_adult_covid_suspected_50-59_7_day_sum',\n",
       "       'previous_day_admission_adult_covid_suspected_60-69_7_day_sum',\n",
       "       'previous_day_admission_adult_covid_suspected_70-79_7_day_sum',\n",
       "       'previous_day_admission_adult_covid_suspected_80+_7_day_sum',\n",
       "       'previous_day_admission_adult_covid_suspected_unknown_7_day_sum',\n",
       "       'previous_day_admission_pediatric_covid_suspected_7_day_sum',\n",
       "       'previous_day_total_ED_visits_7_day_sum',\n",
       "       'previous_day_admission_influenza_confirmed_7_day_sum'],\n",
       "      dtype='object')"
      ]
     },
     "execution_count": 56,
     "metadata": {},
     "output_type": "execute_result"
    }
   ],
   "source": [
    "df.columns"
   ]
  },
  {
   "cell_type": "markdown",
   "metadata": {},
   "source": [
    "# Filtering"
   ]
  },
  {
   "cell_type": "code",
   "execution_count": 57,
   "metadata": {},
   "outputs": [],
   "source": [
    "df_ct= df[df['state']=='CT']"
   ]
  },
  {
   "cell_type": "code",
   "execution_count": 58,
   "metadata": {},
   "outputs": [],
   "source": [
    "df['collection_week'] =pd.to_datetime(df['collection_week'])"
   ]
  },
  {
   "cell_type": "markdown",
   "metadata": {},
   "source": [
    "This date marks the start of the collection week"
   ]
  },
  {
   "cell_type": "code",
   "execution_count": 59,
   "metadata": {},
   "outputs": [
    {
     "data": {
      "text/plain": [
       "'2020-12-11'"
      ]
     },
     "execution_count": 59,
     "metadata": {},
     "output_type": "execute_result"
    }
   ],
   "source": [
    "df_ct['collection_week'].max()"
   ]
  },
  {
   "cell_type": "code",
   "execution_count": 60,
   "metadata": {},
   "outputs": [
    {
     "data": {
      "text/plain": [
       "array(['GREENWICH', 'NORWALK', 'BRIDGEPORT', 'DANBURY', 'STAMFORD',\n",
       "       'BRISTOL', 'NEW BRITAIN', 'FARMINGTON', 'HARTFORD', 'MANCHESTER',\n",
       "       'TORRINGTON', 'SHARON', 'MIDDLETOWN', 'NEW HAVEN', 'WATERBURY',\n",
       "       'MERIDEN', 'BRANFORD', 'WALLINGFORD', 'DERBY', 'NEW LONDON',\n",
       "       'NORWICH', 'STAFFORD SPRINGS', 'ROCKVILLE', 'PUTNAM',\n",
       "       'WILLIMANTIC'], dtype=object)"
      ]
     },
     "execution_count": 60,
     "metadata": {},
     "output_type": "execute_result"
    }
   ],
   "source": [
    "df_ct[df_ct['collection_week'] == df_ct['collection_week'].max()]['city'].unique()"
   ]
  },
  {
   "cell_type": "code",
   "execution_count": 61,
   "metadata": {},
   "outputs": [],
   "source": [
    "df_latest = df_ct[df_ct['collection_week'] == df_ct['collection_week'].max()]"
   ]
  },
  {
   "cell_type": "code",
   "execution_count": 62,
   "metadata": {},
   "outputs": [],
   "source": [
    "#comparing with CHA list:\n",
    " # HOSPITAL FOR SPECIAL CARE, GAYLORD HOSPITAL INC and CONNECTICUT HOSPICE INC,THE don't feature in their list of acute hospitals"
   ]
  },
  {
   "cell_type": "code",
   "execution_count": 63,
   "metadata": {},
   "outputs": [
    {
     "data": {
      "text/plain": [
       "array(['GREENWICH HOSPITAL ASSOCIATION -', 'NORWALK HOSPITAL',\n",
       "       \"ST VINCENT'S MEDICAL CENTER\", 'DANBURY HOSPITAL',\n",
       "       'STAMFORD HOSPITAL', 'BRIDGEPORT HOSPITAL', 'BRISTOL HOSPITAL',\n",
       "       'HOSPITAL OF CENTRAL CONNECTICUT, THE', 'JOHN DEMPSEY HOSPITAL',\n",
       "       'CONNECTICUT CHILDRENS MEDICAL CENTER',\n",
       "       'MANCHESTER MEMORIAL HOSPITAL',\n",
       "       'ST FRANCIS HOSPITAL & MEDICAL CENTER',\n",
       "       'HOSPITAL FOR SPECIAL CARE', 'HARTFORD HOSPITAL',\n",
       "       'CHARLOTTE HUNGERFORD HOSPITAL', 'SHARON HOSPITAL',\n",
       "       'MIDDLESEX HOSPITAL', 'YALE-NEW HAVEN HOSPITAL',\n",
       "       'WATERBURY HOSPITAL', \"SAINT MARY'S HOSPITAL\",\n",
       "       'MIDSTATE MEDICAL CENTER', 'CONNECTICUT HOSPICE INC,THE',\n",
       "       'GAYLORD HOSPITAL INC', 'GRIFFIN HOSPITAL',\n",
       "       'LAWRENCE & MEMORIAL HOSPITAL', 'WILLIAM W BACKUS HOSPITAL',\n",
       "       'JOHNSON MEMORIAL HOSPITAL', 'ROCKVILLE GENERAL HOSPITAL',\n",
       "       'DAY KIMBALL HOSPITAL', 'WINDHAM COMM MEM HOSP & HATCH HOSP'],\n",
       "      dtype=object)"
      ]
     },
     "execution_count": 63,
     "metadata": {},
     "output_type": "execute_result"
    }
   ],
   "source": [
    "df_latest['hospital_name'].unique()"
   ]
  },
  {
   "cell_type": "code",
   "execution_count": 64,
   "metadata": {
    "scrolled": true
   },
   "outputs": [
    {
     "data": {
      "text/plain": [
       "HARTFORD            3\n",
       "WATERBURY           2\n",
       "BRIDGEPORT          2\n",
       "NEW BRITAIN         2\n",
       "PUTNAM              1\n",
       "TORRINGTON          1\n",
       "MANCHESTER          1\n",
       "GREENWICH           1\n",
       "SHARON              1\n",
       "NORWALK             1\n",
       "BRISTOL             1\n",
       "MIDDLETOWN          1\n",
       "STAMFORD            1\n",
       "WALLINGFORD         1\n",
       "ROCKVILLE           1\n",
       "MERIDEN             1\n",
       "FARMINGTON          1\n",
       "DANBURY             1\n",
       "BRANFORD            1\n",
       "NEW HAVEN           1\n",
       "NORWICH             1\n",
       "NEW LONDON          1\n",
       "WILLIMANTIC         1\n",
       "STAFFORD SPRINGS    1\n",
       "DERBY               1\n",
       "Name: city, dtype: int64"
      ]
     },
     "execution_count": 64,
     "metadata": {},
     "output_type": "execute_result"
    }
   ],
   "source": [
    "df_latest['city'].value_counts()"
   ]
  },
  {
   "cell_type": "markdown",
   "metadata": {},
   "source": [
    "# Formulae to calculate hospital capacity"
   ]
  },
  {
   "cell_type": "markdown",
   "metadata": {},
   "source": [
    "GitHub documentation of dataset; negative values indicate suppressed values\n",
    "https://github.com/CareSet/COVID_Hospital_PUF?src=hd\n",
    "\n",
    "Where HHS results may differ from CHA values:\n",
    "- using 7 day averages for all numbers, not daily (dataset updated once a week) \n",
    "- different ways of handling missing values; numbers reported to HHSdaily and aggregated over the week; discrepancies may arise if a hospital misses a day of reporting, say.\n",
    "- using staffed, adult beds in ICU nummbers\n",
    "- inpatient beds do not make a distinction between adult and staffed in the same way \n",
    "- definition of a bed \n",
    "- three facilities in this dataset do not appear in CHA's list"
   ]
  },
  {
   "cell_type": "code",
   "execution_count": 65,
   "metadata": {},
   "outputs": [],
   "source": [
    "def calculate_hosp_icu_capacity(hosp):\n",
    "    return pd.Series(df_latest[df_latest['hospital_name'] == hosp]['staffed_adult_icu_bed_occupancy_7_day_avg']/df_latest[df_latest['hospital_name'] == hosp]['total_staffed_adult_icu_beds_7_day_avg']).values[0]"
   ]
  },
  {
   "cell_type": "code",
   "execution_count": 66,
   "metadata": {},
   "outputs": [],
   "source": [
    "def calculate_hosp_icus(hosp):\n",
    "    return pd.Series(df_latest[df_latest['hospital_name'] == hosp]['total_staffed_adult_icu_beds_7_day_avg']).values[0]"
   ]
  },
  {
   "cell_type": "code",
   "execution_count": 67,
   "metadata": {},
   "outputs": [],
   "source": [
    "def calculate_hosp_inpatient_capacity(hosp):\n",
    "    return pd.Series(df_latest[df_latest['hospital_name'] == hosp]['inpatient_beds_used_7_day_avg']/df_latest[df_latest['hospital_name'] == hosp]['inpatient_beds_7_day_avg']).values[0]"
   ]
  },
  {
   "cell_type": "code",
   "execution_count": 68,
   "metadata": {},
   "outputs": [],
   "source": [
    "def calculate_all_beds_avg(hosp):\n",
    "    return pd.Series(df_latest[df_latest['hospital_name'] == hosp]['all_adult_hospital_beds_7_day_avg']).values[0]"
   ]
  },
  {
   "cell_type": "code",
   "execution_count": 69,
   "metadata": {},
   "outputs": [],
   "source": [
    "def calculate_hosp_inpatient_beds(hosp):\n",
    "    return pd.Series(df_latest[df_latest['hospital_name'] == hosp]['total_beds_7_day_avg']).values[0]"
   ]
  },
  {
   "cell_type": "code",
   "execution_count": 70,
   "metadata": {},
   "outputs": [],
   "source": [
    "def calculate_pct_covid(hosp):\n",
    "    return pd.Series(df_latest[df_latest['hospital_name'] == hosp]['total_adult_patients_hospitalized_confirmed_and_suspected_covid_7_day_avg']).values[0]/pd.Series(df_latest[df_latest['hospital_name'] == hosp]['all_adult_hospital_beds_7_day_avg']).values[0]"
   ]
  },
  {
   "cell_type": "code",
   "execution_count": 71,
   "metadata": {},
   "outputs": [],
   "source": [
    "def city(hosp):\n",
    "    return pd.Series(df_latest[df_latest['hospital_name'] == hosp]['city']).values[0]"
   ]
  },
  {
   "cell_type": "code",
   "execution_count": 72,
   "metadata": {},
   "outputs": [
    {
     "data": {
      "text/plain": [
       "0.771875"
      ]
     },
     "execution_count": 72,
     "metadata": {},
     "output_type": "execute_result"
    }
   ],
   "source": [
    "calculate_hosp_icu_capacity('STAMFORD HOSPITAL')"
   ]
  },
  {
   "cell_type": "code",
   "execution_count": 73,
   "metadata": {},
   "outputs": [
    {
     "data": {
      "text/plain": [
       "0.8974025974025974"
      ]
     },
     "execution_count": 73,
     "metadata": {},
     "output_type": "execute_result"
    }
   ],
   "source": [
    "calculate_hosp_inpatient_capacity('STAMFORD HOSPITAL')"
   ]
  },
  {
   "cell_type": "code",
   "execution_count": 117,
   "metadata": {},
   "outputs": [],
   "source": [
    "list_hosp_capacity = []\n",
    "for hosp in list(df_latest['hospital_name'].unique()):\n",
    "    dict_hosp = {}\n",
    "    dict_hosp['name']= hosp\n",
    "    dict_hosp['city']= city(hosp)\n",
    "    dict_hosp['% Adult, Staffed ICUs Occupied'] = round(100*calculate_hosp_icu_capacity(hosp),2)\n",
    "    dict_hosp['% Inpatient beds used'] = round(100*calculate_hosp_inpatient_capacity(hosp),2)\n",
    "    dict_hosp['ICUs Total'] = calculate_hosp_icus(hosp)\n",
    "    dict_hosp['Inpatient beds Total'] = calculate_hosp_inpatient_beds(hosp)\n",
    "#     dict_hosp['Pct_beds_covid'] = calculate_pct_covid(hosp)\n",
    "#     dict_hosp['all_beds_avg'] = calculate_all_beds_avg(hosp)\n",
    "\n",
    "    list_hosp_capacity += [dict_hosp]\n"
   ]
  },
  {
   "cell_type": "code",
   "execution_count": 75,
   "metadata": {},
   "outputs": [],
   "source": [
    "#notes on data: negative values indicate suppressed numbers; percentages may exceed 100 if a hospital is operating above capacity\n",
    "#"
   ]
  },
  {
   "cell_type": "code",
   "execution_count": 120,
   "metadata": {},
   "outputs": [],
   "source": [
    "pd.DataFrame(list_hosp_capacity).to_clipboard()"
   ]
  },
  {
   "cell_type": "code",
   "execution_count": 121,
   "metadata": {},
   "outputs": [
    {
     "data": {
      "text/html": [
       "<div>\n",
       "<style scoped>\n",
       "    .dataframe tbody tr th:only-of-type {\n",
       "        vertical-align: middle;\n",
       "    }\n",
       "\n",
       "    .dataframe tbody tr th {\n",
       "        vertical-align: top;\n",
       "    }\n",
       "\n",
       "    .dataframe thead th {\n",
       "        text-align: right;\n",
       "    }\n",
       "</style>\n",
       "<table border=\"1\" class=\"dataframe\">\n",
       "  <thead>\n",
       "    <tr style=\"text-align: right;\">\n",
       "      <th></th>\n",
       "      <th>name</th>\n",
       "      <th>city</th>\n",
       "      <th>% Adult, Staffed ICUs Occupied</th>\n",
       "      <th>% Inpatient beds used</th>\n",
       "      <th>ICUs Total</th>\n",
       "      <th>Inpatient beds Total</th>\n",
       "    </tr>\n",
       "  </thead>\n",
       "  <tbody>\n",
       "    <tr>\n",
       "      <th>0</th>\n",
       "      <td>GREENWICH HOSPITAL ASSOCIATION -</td>\n",
       "      <td>GREENWICH</td>\n",
       "      <td>27.00</td>\n",
       "      <td>75.32</td>\n",
       "      <td>30.0</td>\n",
       "      <td>205.0</td>\n",
       "    </tr>\n",
       "    <tr>\n",
       "      <th>1</th>\n",
       "      <td>NORWALK HOSPITAL</td>\n",
       "      <td>NORWALK</td>\n",
       "      <td>50.42</td>\n",
       "      <td>64.28</td>\n",
       "      <td>24.0</td>\n",
       "      <td>236.0</td>\n",
       "    </tr>\n",
       "    <tr>\n",
       "      <th>2</th>\n",
       "      <td>ST VINCENT'S MEDICAL CENTER</td>\n",
       "      <td>BRIDGEPORT</td>\n",
       "      <td>21.36</td>\n",
       "      <td>72.08</td>\n",
       "      <td>66.0</td>\n",
       "      <td>249.3</td>\n",
       "    </tr>\n",
       "    <tr>\n",
       "      <th>3</th>\n",
       "      <td>DANBURY HOSPITAL</td>\n",
       "      <td>DANBURY</td>\n",
       "      <td>74.48</td>\n",
       "      <td>74.75</td>\n",
       "      <td>28.6</td>\n",
       "      <td>339.0</td>\n",
       "    </tr>\n",
       "    <tr>\n",
       "      <th>4</th>\n",
       "      <td>STAMFORD HOSPITAL</td>\n",
       "      <td>STAMFORD</td>\n",
       "      <td>77.19</td>\n",
       "      <td>89.74</td>\n",
       "      <td>32.0</td>\n",
       "      <td>268.0</td>\n",
       "    </tr>\n",
       "    <tr>\n",
       "      <th>5</th>\n",
       "      <td>BRIDGEPORT HOSPITAL</td>\n",
       "      <td>BRIDGEPORT</td>\n",
       "      <td>83.28</td>\n",
       "      <td>50.38</td>\n",
       "      <td>58.0</td>\n",
       "      <td>762.0</td>\n",
       "    </tr>\n",
       "    <tr>\n",
       "      <th>6</th>\n",
       "      <td>BRISTOL HOSPITAL</td>\n",
       "      <td>BRISTOL</td>\n",
       "      <td>83.57</td>\n",
       "      <td>70.37</td>\n",
       "      <td>14.0</td>\n",
       "      <td>134.0</td>\n",
       "    </tr>\n",
       "    <tr>\n",
       "      <th>7</th>\n",
       "      <td>HOSPITAL OF CENTRAL CONNECTICUT, THE</td>\n",
       "      <td>NEW BRITAIN</td>\n",
       "      <td>50.91</td>\n",
       "      <td>78.20</td>\n",
       "      <td>55.0</td>\n",
       "      <td>284.0</td>\n",
       "    </tr>\n",
       "    <tr>\n",
       "      <th>8</th>\n",
       "      <td>JOHN DEMPSEY HOSPITAL</td>\n",
       "      <td>FARMINGTON</td>\n",
       "      <td>55.71</td>\n",
       "      <td>66.86</td>\n",
       "      <td>28.0</td>\n",
       "      <td>234.0</td>\n",
       "    </tr>\n",
       "    <tr>\n",
       "      <th>9</th>\n",
       "      <td>CONNECTICUT CHILDRENS MEDICAL CENTER</td>\n",
       "      <td>HARTFORD</td>\n",
       "      <td>NaN</td>\n",
       "      <td>70.00</td>\n",
       "      <td>0.0</td>\n",
       "      <td>183.0</td>\n",
       "    </tr>\n",
       "    <tr>\n",
       "      <th>10</th>\n",
       "      <td>MANCHESTER MEMORIAL HOSPITAL</td>\n",
       "      <td>MANCHESTER</td>\n",
       "      <td>90.91</td>\n",
       "      <td>73.93</td>\n",
       "      <td>22.0</td>\n",
       "      <td>211.0</td>\n",
       "    </tr>\n",
       "    <tr>\n",
       "      <th>11</th>\n",
       "      <td>ST FRANCIS HOSPITAL &amp; MEDICAL CENTER</td>\n",
       "      <td>HARTFORD</td>\n",
       "      <td>85.14</td>\n",
       "      <td>69.56</td>\n",
       "      <td>45.1</td>\n",
       "      <td>504.0</td>\n",
       "    </tr>\n",
       "    <tr>\n",
       "      <th>12</th>\n",
       "      <td>HOSPITAL FOR SPECIAL CARE</td>\n",
       "      <td>NEW BRITAIN</td>\n",
       "      <td>NaN</td>\n",
       "      <td>93.92</td>\n",
       "      <td>0.0</td>\n",
       "      <td>237.0</td>\n",
       "    </tr>\n",
       "    <tr>\n",
       "      <th>13</th>\n",
       "      <td>HARTFORD HOSPITAL</td>\n",
       "      <td>HARTFORD</td>\n",
       "      <td>48.16</td>\n",
       "      <td>84.52</td>\n",
       "      <td>158.0</td>\n",
       "      <td>854.1</td>\n",
       "    </tr>\n",
       "    <tr>\n",
       "      <th>14</th>\n",
       "      <td>CHARLOTTE HUNGERFORD HOSPITAL</td>\n",
       "      <td>TORRINGTON</td>\n",
       "      <td>22.12</td>\n",
       "      <td>59.55</td>\n",
       "      <td>33.0</td>\n",
       "      <td>128.3</td>\n",
       "    </tr>\n",
       "    <tr>\n",
       "      <th>15</th>\n",
       "      <td>SHARON HOSPITAL</td>\n",
       "      <td>SHARON</td>\n",
       "      <td>76.67</td>\n",
       "      <td>56.17</td>\n",
       "      <td>9.0</td>\n",
       "      <td>60.0</td>\n",
       "    </tr>\n",
       "    <tr>\n",
       "      <th>16</th>\n",
       "      <td>MIDDLESEX HOSPITAL</td>\n",
       "      <td>MIDDLETOWN</td>\n",
       "      <td>91.25</td>\n",
       "      <td>95.79</td>\n",
       "      <td>24.0</td>\n",
       "      <td>192.4</td>\n",
       "    </tr>\n",
       "    <tr>\n",
       "      <th>17</th>\n",
       "      <td>YALE-NEW HAVEN HOSPITAL</td>\n",
       "      <td>NEW HAVEN</td>\n",
       "      <td>82.81</td>\n",
       "      <td>77.56</td>\n",
       "      <td>217.0</td>\n",
       "      <td>1643.0</td>\n",
       "    </tr>\n",
       "    <tr>\n",
       "      <th>18</th>\n",
       "      <td>WATERBURY HOSPITAL</td>\n",
       "      <td>WATERBURY</td>\n",
       "      <td>85.71</td>\n",
       "      <td>82.67</td>\n",
       "      <td>28.0</td>\n",
       "      <td>329.0</td>\n",
       "    </tr>\n",
       "    <tr>\n",
       "      <th>19</th>\n",
       "      <td>SAINT MARY'S HOSPITAL</td>\n",
       "      <td>WATERBURY</td>\n",
       "      <td>60.69</td>\n",
       "      <td>94.06</td>\n",
       "      <td>40.7</td>\n",
       "      <td>146.4</td>\n",
       "    </tr>\n",
       "    <tr>\n",
       "      <th>20</th>\n",
       "      <td>MIDSTATE MEDICAL CENTER</td>\n",
       "      <td>MERIDEN</td>\n",
       "      <td>26.75</td>\n",
       "      <td>81.78</td>\n",
       "      <td>40.0</td>\n",
       "      <td>149.3</td>\n",
       "    </tr>\n",
       "    <tr>\n",
       "      <th>21</th>\n",
       "      <td>CONNECTICUT HOSPICE INC,THE</td>\n",
       "      <td>BRANFORD</td>\n",
       "      <td>NaN</td>\n",
       "      <td>32.12</td>\n",
       "      <td>0.0</td>\n",
       "      <td>52.0</td>\n",
       "    </tr>\n",
       "    <tr>\n",
       "      <th>22</th>\n",
       "      <td>GAYLORD HOSPITAL INC</td>\n",
       "      <td>WALLINGFORD</td>\n",
       "      <td>NaN</td>\n",
       "      <td>93.93</td>\n",
       "      <td>0.0</td>\n",
       "      <td>122.0</td>\n",
       "    </tr>\n",
       "    <tr>\n",
       "      <th>23</th>\n",
       "      <td>GRIFFIN HOSPITAL</td>\n",
       "      <td>DERBY</td>\n",
       "      <td>34.67</td>\n",
       "      <td>86.17</td>\n",
       "      <td>30.0</td>\n",
       "      <td>140.0</td>\n",
       "    </tr>\n",
       "    <tr>\n",
       "      <th>24</th>\n",
       "      <td>LAWRENCE &amp; MEMORIAL HOSPITAL</td>\n",
       "      <td>NEW LONDON</td>\n",
       "      <td>90.50</td>\n",
       "      <td>78.73</td>\n",
       "      <td>20.0</td>\n",
       "      <td>260.0</td>\n",
       "    </tr>\n",
       "    <tr>\n",
       "      <th>25</th>\n",
       "      <td>WILLIAM W BACKUS HOSPITAL</td>\n",
       "      <td>NORWICH</td>\n",
       "      <td>20.89</td>\n",
       "      <td>79.68</td>\n",
       "      <td>56.0</td>\n",
       "      <td>183.6</td>\n",
       "    </tr>\n",
       "    <tr>\n",
       "      <th>26</th>\n",
       "      <td>JOHNSON MEMORIAL HOSPITAL</td>\n",
       "      <td>STAFFORD SPRINGS</td>\n",
       "      <td>-14285700.00</td>\n",
       "      <td>49.64</td>\n",
       "      <td>7.0</td>\n",
       "      <td>55.0</td>\n",
       "    </tr>\n",
       "    <tr>\n",
       "      <th>27</th>\n",
       "      <td>ROCKVILLE GENERAL HOSPITAL</td>\n",
       "      <td>ROCKVILLE</td>\n",
       "      <td>0.00</td>\n",
       "      <td>0.00</td>\n",
       "      <td>24.0</td>\n",
       "      <td>71.0</td>\n",
       "    </tr>\n",
       "    <tr>\n",
       "      <th>28</th>\n",
       "      <td>DAY KIMBALL HOSPITAL</td>\n",
       "      <td>PUTNAM</td>\n",
       "      <td>-16666650.00</td>\n",
       "      <td>87.73</td>\n",
       "      <td>6.0</td>\n",
       "      <td>78.0</td>\n",
       "    </tr>\n",
       "    <tr>\n",
       "      <th>29</th>\n",
       "      <td>WINDHAM COMM MEM HOSP &amp; HATCH HOSP</td>\n",
       "      <td>WILLIMANTIC</td>\n",
       "      <td>0.00</td>\n",
       "      <td>71.09</td>\n",
       "      <td>11.0</td>\n",
       "      <td>55.0</td>\n",
       "    </tr>\n",
       "  </tbody>\n",
       "</table>\n",
       "</div>"
      ],
      "text/plain": [
       "                                    name              city  \\\n",
       "0       GREENWICH HOSPITAL ASSOCIATION -         GREENWICH   \n",
       "1                       NORWALK HOSPITAL           NORWALK   \n",
       "2            ST VINCENT'S MEDICAL CENTER        BRIDGEPORT   \n",
       "3                       DANBURY HOSPITAL           DANBURY   \n",
       "4                      STAMFORD HOSPITAL          STAMFORD   \n",
       "5                    BRIDGEPORT HOSPITAL        BRIDGEPORT   \n",
       "6                       BRISTOL HOSPITAL           BRISTOL   \n",
       "7   HOSPITAL OF CENTRAL CONNECTICUT, THE       NEW BRITAIN   \n",
       "8                  JOHN DEMPSEY HOSPITAL        FARMINGTON   \n",
       "9   CONNECTICUT CHILDRENS MEDICAL CENTER          HARTFORD   \n",
       "10          MANCHESTER MEMORIAL HOSPITAL        MANCHESTER   \n",
       "11  ST FRANCIS HOSPITAL & MEDICAL CENTER          HARTFORD   \n",
       "12             HOSPITAL FOR SPECIAL CARE       NEW BRITAIN   \n",
       "13                     HARTFORD HOSPITAL          HARTFORD   \n",
       "14         CHARLOTTE HUNGERFORD HOSPITAL        TORRINGTON   \n",
       "15                       SHARON HOSPITAL            SHARON   \n",
       "16                    MIDDLESEX HOSPITAL        MIDDLETOWN   \n",
       "17               YALE-NEW HAVEN HOSPITAL         NEW HAVEN   \n",
       "18                    WATERBURY HOSPITAL         WATERBURY   \n",
       "19                 SAINT MARY'S HOSPITAL         WATERBURY   \n",
       "20               MIDSTATE MEDICAL CENTER           MERIDEN   \n",
       "21           CONNECTICUT HOSPICE INC,THE          BRANFORD   \n",
       "22                  GAYLORD HOSPITAL INC       WALLINGFORD   \n",
       "23                      GRIFFIN HOSPITAL             DERBY   \n",
       "24          LAWRENCE & MEMORIAL HOSPITAL        NEW LONDON   \n",
       "25             WILLIAM W BACKUS HOSPITAL           NORWICH   \n",
       "26             JOHNSON MEMORIAL HOSPITAL  STAFFORD SPRINGS   \n",
       "27            ROCKVILLE GENERAL HOSPITAL         ROCKVILLE   \n",
       "28                  DAY KIMBALL HOSPITAL            PUTNAM   \n",
       "29    WINDHAM COMM MEM HOSP & HATCH HOSP       WILLIMANTIC   \n",
       "\n",
       "    % Adult, Staffed ICUs Occupied  % Inpatient beds used  ICUs Total  \\\n",
       "0                            27.00                  75.32        30.0   \n",
       "1                            50.42                  64.28        24.0   \n",
       "2                            21.36                  72.08        66.0   \n",
       "3                            74.48                  74.75        28.6   \n",
       "4                            77.19                  89.74        32.0   \n",
       "5                            83.28                  50.38        58.0   \n",
       "6                            83.57                  70.37        14.0   \n",
       "7                            50.91                  78.20        55.0   \n",
       "8                            55.71                  66.86        28.0   \n",
       "9                              NaN                  70.00         0.0   \n",
       "10                           90.91                  73.93        22.0   \n",
       "11                           85.14                  69.56        45.1   \n",
       "12                             NaN                  93.92         0.0   \n",
       "13                           48.16                  84.52       158.0   \n",
       "14                           22.12                  59.55        33.0   \n",
       "15                           76.67                  56.17         9.0   \n",
       "16                           91.25                  95.79        24.0   \n",
       "17                           82.81                  77.56       217.0   \n",
       "18                           85.71                  82.67        28.0   \n",
       "19                           60.69                  94.06        40.7   \n",
       "20                           26.75                  81.78        40.0   \n",
       "21                             NaN                  32.12         0.0   \n",
       "22                             NaN                  93.93         0.0   \n",
       "23                           34.67                  86.17        30.0   \n",
       "24                           90.50                  78.73        20.0   \n",
       "25                           20.89                  79.68        56.0   \n",
       "26                    -14285700.00                  49.64         7.0   \n",
       "27                            0.00                   0.00        24.0   \n",
       "28                    -16666650.00                  87.73         6.0   \n",
       "29                            0.00                  71.09        11.0   \n",
       "\n",
       "    Inpatient beds Total  \n",
       "0                  205.0  \n",
       "1                  236.0  \n",
       "2                  249.3  \n",
       "3                  339.0  \n",
       "4                  268.0  \n",
       "5                  762.0  \n",
       "6                  134.0  \n",
       "7                  284.0  \n",
       "8                  234.0  \n",
       "9                  183.0  \n",
       "10                 211.0  \n",
       "11                 504.0  \n",
       "12                 237.0  \n",
       "13                 854.1  \n",
       "14                 128.3  \n",
       "15                  60.0  \n",
       "16                 192.4  \n",
       "17                1643.0  \n",
       "18                 329.0  \n",
       "19                 146.4  \n",
       "20                 149.3  \n",
       "21                  52.0  \n",
       "22                 122.0  \n",
       "23                 140.0  \n",
       "24                 260.0  \n",
       "25                 183.6  \n",
       "26                  55.0  \n",
       "27                  71.0  \n",
       "28                  78.0  \n",
       "29                  55.0  "
      ]
     },
     "execution_count": 121,
     "metadata": {},
     "output_type": "execute_result"
    }
   ],
   "source": [
    "pd.DataFrame(list_hosp_capacity)"
   ]
  },
  {
   "cell_type": "markdown",
   "metadata": {},
   "source": [
    "Questions:\n",
    "- Find source of discrepancy with CHA data\n",
    "- Examine calculations of state-level estimates (https://protect-public.hhs.gov/datasets/state-representative-estimates-for-hospital-utilization/data?geometry=89.569%2C-16.702%2C-96.408%2C72.161&orderBy=state_name)\n",
    "- Aggregate on city level? Have to figure out how to handle suppressed values\n",
    "- What's the story here? \n",
    "- Further analysis: Dataset includes age breakdowns of COVID patients, need to see how to clean it before I can work with it"
   ]
  },
  {
   "cell_type": "code",
   "execution_count": 77,
   "metadata": {},
   "outputs": [
    {
     "name": "stderr",
     "output_type": "stream",
     "text": [
      "/Users/kasturipananjady/.pyenv/versions/3.7.1/lib/python3.7/site-packages/ipykernel_launcher.py:1: SettingWithCopyWarning: \n",
      "A value is trying to be set on a copy of a slice from a DataFrame.\n",
      "Try using .loc[row_indexer,col_indexer] = value instead\n",
      "\n",
      "See the caveats in the documentation: https://pandas.pydata.org/pandas-docs/stable/user_guide/indexing.html#returning-a-view-versus-a-copy\n",
      "  \"\"\"Entry point for launching an IPython kernel.\n"
     ]
    }
   ],
   "source": [
    "df_latest['%_ICU_COVID'] = round(100*df_latest['staffed_icu_adult_patients_confirmed_and_suspected_covid_7_day_avg']/df_latest['total_staffed_adult_icu_beds_7_day_avg'])"
   ]
  },
  {
   "cell_type": "code",
   "execution_count": 114,
   "metadata": {},
   "outputs": [
    {
     "name": "stderr",
     "output_type": "stream",
     "text": [
      "/Users/kasturipananjady/.pyenv/versions/3.7.1/lib/python3.7/site-packages/ipykernel_launcher.py:1: SettingWithCopyWarning: \n",
      "A value is trying to be set on a copy of a slice from a DataFrame.\n",
      "Try using .loc[row_indexer,col_indexer] = value instead\n",
      "\n",
      "See the caveats in the documentation: https://pandas.pydata.org/pandas-docs/stable/user_guide/indexing.html#returning-a-view-versus-a-copy\n",
      "  \"\"\"Entry point for launching an IPython kernel.\n"
     ]
    }
   ],
   "source": [
    "df_latest['%_beds_COVID'] = df_latest['total_adult_patients_hospitalized_confirmed_and_suspected_covid_7_day_avg']/df_latest['total_beds_7_day_avg']"
   ]
  },
  {
   "cell_type": "code",
   "execution_count": 116,
   "metadata": {},
   "outputs": [],
   "source": [
    "df_latest[['hospital_name','%_ICU_COVID','staffed_icu_adult_patients_confirmed_and_suspected_covid_7_day_avg','total_staffed_adult_icu_beds_7_day_avg','total_beds_7_day_avg','%_beds_COVID']].to_clipboard()"
   ]
  },
  {
   "cell_type": "code",
   "execution_count": 79,
   "metadata": {},
   "outputs": [
    {
     "data": {
      "text/plain": [
       "717   -999999.0\n",
       "718         5.4\n",
       "719   -999999.0\n",
       "720        12.9\n",
       "721        11.6\n",
       "722        23.7\n",
       "723         4.1\n",
       "724        10.7\n",
       "725        10.3\n",
       "726         0.0\n",
       "727        11.3\n",
       "728        14.0\n",
       "729         0.0\n",
       "730        20.1\n",
       "731   -999999.0\n",
       "732   -999999.0\n",
       "733         9.6\n",
       "734        63.3\n",
       "735        14.4\n",
       "736        14.7\n",
       "737         7.9\n",
       "738         0.0\n",
       "739         0.0\n",
       "740         5.3\n",
       "741         4.6\n",
       "742         7.0\n",
       "743   -999999.0\n",
       "744         0.0\n",
       "745   -999999.0\n",
       "746         0.0\n",
       "Name: staffed_icu_adult_patients_confirmed_and_suspected_covid_7_day_avg, dtype: float64"
      ]
     },
     "execution_count": 79,
     "metadata": {},
     "output_type": "execute_result"
    }
   ],
   "source": [
    "df_latest['staffed_icu_adult_patients_confirmed_and_suspected_covid_7_day_avg']"
   ]
  },
  {
   "cell_type": "markdown",
   "metadata": {},
   "source": [
    "# COVID in CT hospitals"
   ]
  },
  {
   "cell_type": "markdown",
   "metadata": {},
   "source": [
    "Age breakdowns all suppressed"
   ]
  },
  {
   "cell_type": "code",
   "execution_count": 80,
   "metadata": {},
   "outputs": [
    {
     "name": "stdout",
     "output_type": "stream",
     "text": [
      "total_adult_patients_hospitalized_confirmed_and_suspected_covid_7_day_avg\n",
      "total_adult_patients_hospitalized_confirmed_covid_7_day_avg\n",
      "total_pediatric_patients_hospitalized_confirmed_and_suspected_covid_7_day_avg\n",
      "total_pediatric_patients_hospitalized_confirmed_covid_7_day_avg\n",
      "staffed_icu_adult_patients_confirmed_and_suspected_covid_7_day_avg\n",
      "staffed_icu_adult_patients_confirmed_covid_7_day_avg\n",
      "total_patients_hospitalized_confirmed_influenza_and_covid_7_day_avg\n",
      "total_adult_patients_hospitalized_confirmed_and_suspected_covid_7_day_sum\n",
      "total_adult_patients_hospitalized_confirmed_covid_7_day_sum\n",
      "total_pediatric_patients_hospitalized_confirmed_and_suspected_covid_7_day_sum\n",
      "total_pediatric_patients_hospitalized_confirmed_covid_7_day_sum\n",
      "staffed_icu_adult_patients_confirmed_and_suspected_covid_7_day_sum\n",
      "staffed_icu_adult_patients_confirmed_covid_7_day_sum\n",
      "total_patients_hospitalized_confirmed_influenza_and_covid_7_day_sum\n",
      "total_adult_patients_hospitalized_confirmed_and_suspected_covid_7_day_coverage\n",
      "total_adult_patients_hospitalized_confirmed_covid_7_day_coverage\n",
      "total_pediatric_patients_hospitalized_confirmed_and_suspected_covid_7_day_coverage\n",
      "total_pediatric_patients_hospitalized_confirmed_covid_7_day_coverage\n",
      "staffed_icu_adult_patients_confirmed_and_suspected_covid_7_day_coverage\n",
      "staffed_icu_adult_patients_confirmed_covid_7_day_coverage\n",
      "total_patients_hospitalized_confirmed_influenza_and_covid_7_day_coverage\n",
      "previous_day_admission_adult_covid_confirmed_7_day_sum\n",
      "previous_day_admission_adult_covid_confirmed_18-19_7_day_sum\n",
      "previous_day_admission_adult_covid_confirmed_20-29_7_day_sum\n",
      "previous_day_admission_adult_covid_confirmed_30-39_7_day_sum\n",
      "previous_day_admission_adult_covid_confirmed_40-49_7_day_sum\n",
      "previous_day_admission_adult_covid_confirmed_50-59_7_day_sum\n",
      "previous_day_admission_adult_covid_confirmed_60-69_7_day_sum\n",
      "previous_day_admission_adult_covid_confirmed_70-79_7_day_sum\n",
      "previous_day_admission_adult_covid_confirmed_80+_7_day_sum\n",
      "previous_day_admission_adult_covid_confirmed_unknown_7_day_sum\n",
      "previous_day_admission_pediatric_covid_confirmed_7_day_sum\n",
      "previous_day_covid_ED_visits_7_day_sum\n",
      "previous_day_admission_adult_covid_suspected_7_day_sum\n",
      "previous_day_admission_adult_covid_suspected_18-19_7_day_sum\n",
      "previous_day_admission_adult_covid_suspected_20-29_7_day_sum\n",
      "previous_day_admission_adult_covid_suspected_30-39_7_day_sum\n",
      "previous_day_admission_adult_covid_suspected_40-49_7_day_sum\n",
      "previous_day_admission_adult_covid_suspected_50-59_7_day_sum\n",
      "previous_day_admission_adult_covid_suspected_60-69_7_day_sum\n",
      "previous_day_admission_adult_covid_suspected_70-79_7_day_sum\n",
      "previous_day_admission_adult_covid_suspected_80+_7_day_sum\n",
      "previous_day_admission_adult_covid_suspected_unknown_7_day_sum\n",
      "previous_day_admission_pediatric_covid_suspected_7_day_sum\n"
     ]
    }
   ],
   "source": [
    "for column in list(df_latest.columns):\n",
    "    if 'covid' in column:\n",
    "        print(column)"
   ]
  },
  {
   "cell_type": "code",
   "execution_count": 81,
   "metadata": {},
   "outputs": [],
   "source": [
    "df_covid_by_hosp = df_latest[['hospital_name','city','total_adult_patients_hospitalized_confirmed_and_suspected_covid_7_day_avg','total_adult_patients_hospitalized_confirmed_and_suspected_covid_7_day_sum']]"
   ]
  },
  {
   "cell_type": "code",
   "execution_count": 82,
   "metadata": {},
   "outputs": [
    {
     "data": {
      "text/html": [
       "<div>\n",
       "<style scoped>\n",
       "    .dataframe tbody tr th:only-of-type {\n",
       "        vertical-align: middle;\n",
       "    }\n",
       "\n",
       "    .dataframe tbody tr th {\n",
       "        vertical-align: top;\n",
       "    }\n",
       "\n",
       "    .dataframe thead th {\n",
       "        text-align: right;\n",
       "    }\n",
       "</style>\n",
       "<table border=\"1\" class=\"dataframe\">\n",
       "  <thead>\n",
       "    <tr style=\"text-align: right;\">\n",
       "      <th></th>\n",
       "      <th>index</th>\n",
       "      <th>hospital_name</th>\n",
       "      <th>city</th>\n",
       "      <th>total_adult_patients_hospitalized_confirmed_and_suspected_covid_7_day_avg</th>\n",
       "      <th>total_adult_patients_hospitalized_confirmed_and_suspected_covid_7_day_sum</th>\n",
       "    </tr>\n",
       "  </thead>\n",
       "  <tbody>\n",
       "    <tr>\n",
       "      <th>0</th>\n",
       "      <td>717</td>\n",
       "      <td>GREENWICH HOSPITAL ASSOCIATION -</td>\n",
       "      <td>GREENWICH</td>\n",
       "      <td>37.6</td>\n",
       "      <td>263.0</td>\n",
       "    </tr>\n",
       "    <tr>\n",
       "      <th>1</th>\n",
       "      <td>718</td>\n",
       "      <td>NORWALK HOSPITAL</td>\n",
       "      <td>NORWALK</td>\n",
       "      <td>52.1</td>\n",
       "      <td>365.0</td>\n",
       "    </tr>\n",
       "    <tr>\n",
       "      <th>2</th>\n",
       "      <td>719</td>\n",
       "      <td>ST VINCENT'S MEDICAL CENTER</td>\n",
       "      <td>BRIDGEPORT</td>\n",
       "      <td>30.1</td>\n",
       "      <td>211.0</td>\n",
       "    </tr>\n",
       "    <tr>\n",
       "      <th>3</th>\n",
       "      <td>720</td>\n",
       "      <td>DANBURY HOSPITAL</td>\n",
       "      <td>DANBURY</td>\n",
       "      <td>73.9</td>\n",
       "      <td>517.0</td>\n",
       "    </tr>\n",
       "    <tr>\n",
       "      <th>4</th>\n",
       "      <td>721</td>\n",
       "      <td>STAMFORD HOSPITAL</td>\n",
       "      <td>STAMFORD</td>\n",
       "      <td>37.9</td>\n",
       "      <td>265.0</td>\n",
       "    </tr>\n",
       "    <tr>\n",
       "      <th>5</th>\n",
       "      <td>722</td>\n",
       "      <td>BRIDGEPORT HOSPITAL</td>\n",
       "      <td>BRIDGEPORT</td>\n",
       "      <td>121.9</td>\n",
       "      <td>853.0</td>\n",
       "    </tr>\n",
       "    <tr>\n",
       "      <th>6</th>\n",
       "      <td>723</td>\n",
       "      <td>BRISTOL HOSPITAL</td>\n",
       "      <td>BRISTOL</td>\n",
       "      <td>15.7</td>\n",
       "      <td>110.0</td>\n",
       "    </tr>\n",
       "    <tr>\n",
       "      <th>7</th>\n",
       "      <td>724</td>\n",
       "      <td>HOSPITAL OF CENTRAL CONNECTICUT, THE</td>\n",
       "      <td>NEW BRITAIN</td>\n",
       "      <td>60.7</td>\n",
       "      <td>425.0</td>\n",
       "    </tr>\n",
       "    <tr>\n",
       "      <th>8</th>\n",
       "      <td>725</td>\n",
       "      <td>JOHN DEMPSEY HOSPITAL</td>\n",
       "      <td>FARMINGTON</td>\n",
       "      <td>51.7</td>\n",
       "      <td>362.0</td>\n",
       "    </tr>\n",
       "    <tr>\n",
       "      <th>9</th>\n",
       "      <td>726</td>\n",
       "      <td>CONNECTICUT CHILDRENS MEDICAL CENTER</td>\n",
       "      <td>HARTFORD</td>\n",
       "      <td>-999999.0</td>\n",
       "      <td>-999999.0</td>\n",
       "    </tr>\n",
       "    <tr>\n",
       "      <th>10</th>\n",
       "      <td>727</td>\n",
       "      <td>MANCHESTER MEMORIAL HOSPITAL</td>\n",
       "      <td>MANCHESTER</td>\n",
       "      <td>28.4</td>\n",
       "      <td>199.0</td>\n",
       "    </tr>\n",
       "    <tr>\n",
       "      <th>11</th>\n",
       "      <td>728</td>\n",
       "      <td>ST FRANCIS HOSPITAL &amp; MEDICAL CENTER</td>\n",
       "      <td>HARTFORD</td>\n",
       "      <td>96.6</td>\n",
       "      <td>676.0</td>\n",
       "    </tr>\n",
       "    <tr>\n",
       "      <th>12</th>\n",
       "      <td>729</td>\n",
       "      <td>HOSPITAL FOR SPECIAL CARE</td>\n",
       "      <td>NEW BRITAIN</td>\n",
       "      <td>-999999.0</td>\n",
       "      <td>15.0</td>\n",
       "    </tr>\n",
       "    <tr>\n",
       "      <th>13</th>\n",
       "      <td>730</td>\n",
       "      <td>HARTFORD HOSPITAL</td>\n",
       "      <td>HARTFORD</td>\n",
       "      <td>163.9</td>\n",
       "      <td>1147.0</td>\n",
       "    </tr>\n",
       "    <tr>\n",
       "      <th>14</th>\n",
       "      <td>731</td>\n",
       "      <td>CHARLOTTE HUNGERFORD HOSPITAL</td>\n",
       "      <td>TORRINGTON</td>\n",
       "      <td>28.6</td>\n",
       "      <td>200.0</td>\n",
       "    </tr>\n",
       "    <tr>\n",
       "      <th>15</th>\n",
       "      <td>732</td>\n",
       "      <td>SHARON HOSPITAL</td>\n",
       "      <td>SHARON</td>\n",
       "      <td>5.1</td>\n",
       "      <td>36.0</td>\n",
       "    </tr>\n",
       "    <tr>\n",
       "      <th>16</th>\n",
       "      <td>733</td>\n",
       "      <td>MIDDLESEX HOSPITAL</td>\n",
       "      <td>MIDDLETOWN</td>\n",
       "      <td>66.6</td>\n",
       "      <td>466.0</td>\n",
       "    </tr>\n",
       "    <tr>\n",
       "      <th>17</th>\n",
       "      <td>734</td>\n",
       "      <td>YALE-NEW HAVEN HOSPITAL</td>\n",
       "      <td>NEW HAVEN</td>\n",
       "      <td>230.6</td>\n",
       "      <td>1614.0</td>\n",
       "    </tr>\n",
       "    <tr>\n",
       "      <th>18</th>\n",
       "      <td>735</td>\n",
       "      <td>WATERBURY HOSPITAL</td>\n",
       "      <td>WATERBURY</td>\n",
       "      <td>58.6</td>\n",
       "      <td>410.0</td>\n",
       "    </tr>\n",
       "    <tr>\n",
       "      <th>19</th>\n",
       "      <td>736</td>\n",
       "      <td>SAINT MARY'S HOSPITAL</td>\n",
       "      <td>WATERBURY</td>\n",
       "      <td>54.0</td>\n",
       "      <td>378.0</td>\n",
       "    </tr>\n",
       "    <tr>\n",
       "      <th>20</th>\n",
       "      <td>737</td>\n",
       "      <td>MIDSTATE MEDICAL CENTER</td>\n",
       "      <td>MERIDEN</td>\n",
       "      <td>38.6</td>\n",
       "      <td>270.0</td>\n",
       "    </tr>\n",
       "    <tr>\n",
       "      <th>21</th>\n",
       "      <td>738</td>\n",
       "      <td>CONNECTICUT HOSPICE INC,THE</td>\n",
       "      <td>BRANFORD</td>\n",
       "      <td>-999999.0</td>\n",
       "      <td>8.0</td>\n",
       "    </tr>\n",
       "    <tr>\n",
       "      <th>22</th>\n",
       "      <td>739</td>\n",
       "      <td>GAYLORD HOSPITAL INC</td>\n",
       "      <td>WALLINGFORD</td>\n",
       "      <td>4.6</td>\n",
       "      <td>32.0</td>\n",
       "    </tr>\n",
       "    <tr>\n",
       "      <th>23</th>\n",
       "      <td>740</td>\n",
       "      <td>GRIFFIN HOSPITAL</td>\n",
       "      <td>DERBY</td>\n",
       "      <td>25.7</td>\n",
       "      <td>180.0</td>\n",
       "    </tr>\n",
       "    <tr>\n",
       "      <th>24</th>\n",
       "      <td>741</td>\n",
       "      <td>LAWRENCE &amp; MEMORIAL HOSPITAL</td>\n",
       "      <td>NEW LONDON</td>\n",
       "      <td>39.0</td>\n",
       "      <td>273.0</td>\n",
       "    </tr>\n",
       "    <tr>\n",
       "      <th>25</th>\n",
       "      <td>742</td>\n",
       "      <td>WILLIAM W BACKUS HOSPITAL</td>\n",
       "      <td>NORWICH</td>\n",
       "      <td>44.4</td>\n",
       "      <td>311.0</td>\n",
       "    </tr>\n",
       "    <tr>\n",
       "      <th>26</th>\n",
       "      <td>743</td>\n",
       "      <td>JOHNSON MEMORIAL HOSPITAL</td>\n",
       "      <td>STAFFORD SPRINGS</td>\n",
       "      <td>-999999.0</td>\n",
       "      <td>17.0</td>\n",
       "    </tr>\n",
       "    <tr>\n",
       "      <th>27</th>\n",
       "      <td>744</td>\n",
       "      <td>ROCKVILLE GENERAL HOSPITAL</td>\n",
       "      <td>ROCKVILLE</td>\n",
       "      <td>0.0</td>\n",
       "      <td>0.0</td>\n",
       "    </tr>\n",
       "    <tr>\n",
       "      <th>28</th>\n",
       "      <td>745</td>\n",
       "      <td>DAY KIMBALL HOSPITAL</td>\n",
       "      <td>PUTNAM</td>\n",
       "      <td>7.4</td>\n",
       "      <td>52.0</td>\n",
       "    </tr>\n",
       "    <tr>\n",
       "      <th>29</th>\n",
       "      <td>746</td>\n",
       "      <td>WINDHAM COMM MEM HOSP &amp; HATCH HOSP</td>\n",
       "      <td>WILLIMANTIC</td>\n",
       "      <td>10.4</td>\n",
       "      <td>73.0</td>\n",
       "    </tr>\n",
       "  </tbody>\n",
       "</table>\n",
       "</div>"
      ],
      "text/plain": [
       "    index                         hospital_name              city  \\\n",
       "0     717      GREENWICH HOSPITAL ASSOCIATION -         GREENWICH   \n",
       "1     718                      NORWALK HOSPITAL           NORWALK   \n",
       "2     719           ST VINCENT'S MEDICAL CENTER        BRIDGEPORT   \n",
       "3     720                      DANBURY HOSPITAL           DANBURY   \n",
       "4     721                     STAMFORD HOSPITAL          STAMFORD   \n",
       "5     722                   BRIDGEPORT HOSPITAL        BRIDGEPORT   \n",
       "6     723                      BRISTOL HOSPITAL           BRISTOL   \n",
       "7     724  HOSPITAL OF CENTRAL CONNECTICUT, THE       NEW BRITAIN   \n",
       "8     725                 JOHN DEMPSEY HOSPITAL        FARMINGTON   \n",
       "9     726  CONNECTICUT CHILDRENS MEDICAL CENTER          HARTFORD   \n",
       "10    727          MANCHESTER MEMORIAL HOSPITAL        MANCHESTER   \n",
       "11    728  ST FRANCIS HOSPITAL & MEDICAL CENTER          HARTFORD   \n",
       "12    729             HOSPITAL FOR SPECIAL CARE       NEW BRITAIN   \n",
       "13    730                     HARTFORD HOSPITAL          HARTFORD   \n",
       "14    731         CHARLOTTE HUNGERFORD HOSPITAL        TORRINGTON   \n",
       "15    732                       SHARON HOSPITAL            SHARON   \n",
       "16    733                    MIDDLESEX HOSPITAL        MIDDLETOWN   \n",
       "17    734               YALE-NEW HAVEN HOSPITAL         NEW HAVEN   \n",
       "18    735                    WATERBURY HOSPITAL         WATERBURY   \n",
       "19    736                 SAINT MARY'S HOSPITAL         WATERBURY   \n",
       "20    737               MIDSTATE MEDICAL CENTER           MERIDEN   \n",
       "21    738           CONNECTICUT HOSPICE INC,THE          BRANFORD   \n",
       "22    739                  GAYLORD HOSPITAL INC       WALLINGFORD   \n",
       "23    740                      GRIFFIN HOSPITAL             DERBY   \n",
       "24    741          LAWRENCE & MEMORIAL HOSPITAL        NEW LONDON   \n",
       "25    742             WILLIAM W BACKUS HOSPITAL           NORWICH   \n",
       "26    743             JOHNSON MEMORIAL HOSPITAL  STAFFORD SPRINGS   \n",
       "27    744            ROCKVILLE GENERAL HOSPITAL         ROCKVILLE   \n",
       "28    745                  DAY KIMBALL HOSPITAL            PUTNAM   \n",
       "29    746    WINDHAM COMM MEM HOSP & HATCH HOSP       WILLIMANTIC   \n",
       "\n",
       "    total_adult_patients_hospitalized_confirmed_and_suspected_covid_7_day_avg  \\\n",
       "0                                                37.6                           \n",
       "1                                                52.1                           \n",
       "2                                                30.1                           \n",
       "3                                                73.9                           \n",
       "4                                                37.9                           \n",
       "5                                               121.9                           \n",
       "6                                                15.7                           \n",
       "7                                                60.7                           \n",
       "8                                                51.7                           \n",
       "9                                           -999999.0                           \n",
       "10                                               28.4                           \n",
       "11                                               96.6                           \n",
       "12                                          -999999.0                           \n",
       "13                                              163.9                           \n",
       "14                                               28.6                           \n",
       "15                                                5.1                           \n",
       "16                                               66.6                           \n",
       "17                                              230.6                           \n",
       "18                                               58.6                           \n",
       "19                                               54.0                           \n",
       "20                                               38.6                           \n",
       "21                                          -999999.0                           \n",
       "22                                                4.6                           \n",
       "23                                               25.7                           \n",
       "24                                               39.0                           \n",
       "25                                               44.4                           \n",
       "26                                          -999999.0                           \n",
       "27                                                0.0                           \n",
       "28                                                7.4                           \n",
       "29                                               10.4                           \n",
       "\n",
       "    total_adult_patients_hospitalized_confirmed_and_suspected_covid_7_day_sum  \n",
       "0                                               263.0                          \n",
       "1                                               365.0                          \n",
       "2                                               211.0                          \n",
       "3                                               517.0                          \n",
       "4                                               265.0                          \n",
       "5                                               853.0                          \n",
       "6                                               110.0                          \n",
       "7                                               425.0                          \n",
       "8                                               362.0                          \n",
       "9                                           -999999.0                          \n",
       "10                                              199.0                          \n",
       "11                                              676.0                          \n",
       "12                                               15.0                          \n",
       "13                                             1147.0                          \n",
       "14                                              200.0                          \n",
       "15                                               36.0                          \n",
       "16                                              466.0                          \n",
       "17                                             1614.0                          \n",
       "18                                              410.0                          \n",
       "19                                              378.0                          \n",
       "20                                              270.0                          \n",
       "21                                                8.0                          \n",
       "22                                               32.0                          \n",
       "23                                              180.0                          \n",
       "24                                              273.0                          \n",
       "25                                              311.0                          \n",
       "26                                               17.0                          \n",
       "27                                                0.0                          \n",
       "28                                               52.0                          \n",
       "29                                               73.0                          "
      ]
     },
     "execution_count": 82,
     "metadata": {},
     "output_type": "execute_result"
    }
   ],
   "source": [
    "df_covid_by_hosp.reset_index()"
   ]
  },
  {
   "cell_type": "markdown",
   "metadata": {},
   "source": [
    "# Joining with city-level positivity data and population data"
   ]
  },
  {
   "cell_type": "markdown",
   "metadata": {},
   "source": [
    "Further analysis:\n",
    "- Correlations between these? Is there a relationship between % positivity and hospital capacity?"
   ]
  },
  {
   "cell_type": "code",
   "execution_count": 83,
   "metadata": {},
   "outputs": [],
   "source": [
    "df_pop_pos = pd.read_csv('town_rate (5).csv')"
   ]
  },
  {
   "cell_type": "code",
   "execution_count": 84,
   "metadata": {},
   "outputs": [],
   "source": [
    "df_pop_pos['town'] = df_pop_pos['town'].str.upper()"
   ]
  },
  {
   "cell_type": "code",
   "execution_count": 85,
   "metadata": {},
   "outputs": [
    {
     "data": {
      "text/html": [
       "<div>\n",
       "<style scoped>\n",
       "    .dataframe tbody tr th:only-of-type {\n",
       "        vertical-align: middle;\n",
       "    }\n",
       "\n",
       "    .dataframe tbody tr th {\n",
       "        vertical-align: top;\n",
       "    }\n",
       "\n",
       "    .dataframe thead th {\n",
       "        text-align: right;\n",
       "    }\n",
       "</style>\n",
       "<table border=\"1\" class=\"dataframe\">\n",
       "  <thead>\n",
       "    <tr style=\"text-align: right;\">\n",
       "      <th></th>\n",
       "      <th>hospital_name</th>\n",
       "      <th>city</th>\n",
       "      <th>total_adult_patients_hospitalized_confirmed_and_suspected_covid_7_day_avg</th>\n",
       "      <th>total_adult_patients_hospitalized_confirmed_and_suspected_covid_7_day_sum</th>\n",
       "      <th>Unnamed: 0</th>\n",
       "      <th>town_no</th>\n",
       "      <th>town</th>\n",
       "      <th>pop</th>\n",
       "      <th>casesweek1</th>\n",
       "      <th>casesweek2</th>\n",
       "      <th>totalcases</th>\n",
       "      <th>caserate</th>\n",
       "      <th>ratecategory</th>\n",
       "      <th>totaltests</th>\n",
       "      <th>percentpositive</th>\n",
       "      <th>reportperiodstartdate</th>\n",
       "      <th>reportperiodenddate</th>\n",
       "      <th>updatedate</th>\n",
       "    </tr>\n",
       "  </thead>\n",
       "  <tbody>\n",
       "    <tr>\n",
       "      <th>0</th>\n",
       "      <td>GREENWICH HOSPITAL ASSOCIATION -</td>\n",
       "      <td>GREENWICH</td>\n",
       "      <td>37.6</td>\n",
       "      <td>263.0</td>\n",
       "      <td>56</td>\n",
       "      <td>57</td>\n",
       "      <td>GREENWICH</td>\n",
       "      <td>62727</td>\n",
       "      <td>135</td>\n",
       "      <td>154</td>\n",
       "      <td>289</td>\n",
       "      <td>32.9</td>\n",
       "      <td>4. 15 or more cases per 100,000</td>\n",
       "      <td>6344</td>\n",
       "      <td>5.2</td>\n",
       "      <td>2020-11-22T00:00:00.000</td>\n",
       "      <td>2020-12-05T00:00:00.000</td>\n",
       "      <td>2020-12-10</td>\n",
       "    </tr>\n",
       "    <tr>\n",
       "      <th>1</th>\n",
       "      <td>NORWALK HOSPITAL</td>\n",
       "      <td>NORWALK</td>\n",
       "      <td>52.1</td>\n",
       "      <td>365.0</td>\n",
       "      <td>102</td>\n",
       "      <td>103</td>\n",
       "      <td>NORWALK</td>\n",
       "      <td>89047</td>\n",
       "      <td>326</td>\n",
       "      <td>434</td>\n",
       "      <td>760</td>\n",
       "      <td>61.0</td>\n",
       "      <td>4. 15 or more cases per 100,000</td>\n",
       "      <td>9997</td>\n",
       "      <td>9.5</td>\n",
       "      <td>2020-11-22T00:00:00.000</td>\n",
       "      <td>2020-12-05T00:00:00.000</td>\n",
       "      <td>2020-12-10</td>\n",
       "    </tr>\n",
       "    <tr>\n",
       "      <th>2</th>\n",
       "      <td>ST VINCENT'S MEDICAL CENTER</td>\n",
       "      <td>BRIDGEPORT</td>\n",
       "      <td>30.1</td>\n",
       "      <td>211.0</td>\n",
       "      <td>14</td>\n",
       "      <td>15</td>\n",
       "      <td>BRIDGEPORT</td>\n",
       "      <td>144900</td>\n",
       "      <td>728</td>\n",
       "      <td>805</td>\n",
       "      <td>1533</td>\n",
       "      <td>75.6</td>\n",
       "      <td>4. 15 or more cases per 100,000</td>\n",
       "      <td>15340</td>\n",
       "      <td>12.3</td>\n",
       "      <td>2020-11-22T00:00:00.000</td>\n",
       "      <td>2020-12-05T00:00:00.000</td>\n",
       "      <td>2020-12-10</td>\n",
       "    </tr>\n",
       "    <tr>\n",
       "      <th>3</th>\n",
       "      <td>BRIDGEPORT HOSPITAL</td>\n",
       "      <td>BRIDGEPORT</td>\n",
       "      <td>121.9</td>\n",
       "      <td>853.0</td>\n",
       "      <td>14</td>\n",
       "      <td>15</td>\n",
       "      <td>BRIDGEPORT</td>\n",
       "      <td>144900</td>\n",
       "      <td>728</td>\n",
       "      <td>805</td>\n",
       "      <td>1533</td>\n",
       "      <td>75.6</td>\n",
       "      <td>4. 15 or more cases per 100,000</td>\n",
       "      <td>15340</td>\n",
       "      <td>12.3</td>\n",
       "      <td>2020-11-22T00:00:00.000</td>\n",
       "      <td>2020-12-05T00:00:00.000</td>\n",
       "      <td>2020-12-10</td>\n",
       "    </tr>\n",
       "    <tr>\n",
       "      <th>4</th>\n",
       "      <td>DANBURY HOSPITAL</td>\n",
       "      <td>DANBURY</td>\n",
       "      <td>73.9</td>\n",
       "      <td>517.0</td>\n",
       "      <td>33</td>\n",
       "      <td>34</td>\n",
       "      <td>DANBURY</td>\n",
       "      <td>84730</td>\n",
       "      <td>513</td>\n",
       "      <td>706</td>\n",
       "      <td>1219</td>\n",
       "      <td>102.8</td>\n",
       "      <td>4. 15 or more cases per 100,000</td>\n",
       "      <td>10093</td>\n",
       "      <td>14.6</td>\n",
       "      <td>2020-11-22T00:00:00.000</td>\n",
       "      <td>2020-12-05T00:00:00.000</td>\n",
       "      <td>2020-12-10</td>\n",
       "    </tr>\n",
       "    <tr>\n",
       "      <th>5</th>\n",
       "      <td>STAMFORD HOSPITAL</td>\n",
       "      <td>STAMFORD</td>\n",
       "      <td>37.9</td>\n",
       "      <td>265.0</td>\n",
       "      <td>134</td>\n",
       "      <td>135</td>\n",
       "      <td>STAMFORD</td>\n",
       "      <td>129775</td>\n",
       "      <td>543</td>\n",
       "      <td>685</td>\n",
       "      <td>1228</td>\n",
       "      <td>67.6</td>\n",
       "      <td>4. 15 or more cases per 100,000</td>\n",
       "      <td>14144</td>\n",
       "      <td>10.6</td>\n",
       "      <td>2020-11-22T00:00:00.000</td>\n",
       "      <td>2020-12-05T00:00:00.000</td>\n",
       "      <td>2020-12-10</td>\n",
       "    </tr>\n",
       "    <tr>\n",
       "      <th>6</th>\n",
       "      <td>BRISTOL HOSPITAL</td>\n",
       "      <td>BRISTOL</td>\n",
       "      <td>15.7</td>\n",
       "      <td>110.0</td>\n",
       "      <td>16</td>\n",
       "      <td>17</td>\n",
       "      <td>BRISTOL</td>\n",
       "      <td>60032</td>\n",
       "      <td>195</td>\n",
       "      <td>294</td>\n",
       "      <td>489</td>\n",
       "      <td>58.2</td>\n",
       "      <td>4. 15 or more cases per 100,000</td>\n",
       "      <td>6826</td>\n",
       "      <td>8.6</td>\n",
       "      <td>2020-11-22T00:00:00.000</td>\n",
       "      <td>2020-12-05T00:00:00.000</td>\n",
       "      <td>2020-12-10</td>\n",
       "    </tr>\n",
       "    <tr>\n",
       "      <th>7</th>\n",
       "      <td>HOSPITAL OF CENTRAL CONNECTICUT, THE</td>\n",
       "      <td>NEW BRITAIN</td>\n",
       "      <td>60.7</td>\n",
       "      <td>425.0</td>\n",
       "      <td>88</td>\n",
       "      <td>89</td>\n",
       "      <td>NEW BRITAIN</td>\n",
       "      <td>72453</td>\n",
       "      <td>396</td>\n",
       "      <td>545</td>\n",
       "      <td>941</td>\n",
       "      <td>92.8</td>\n",
       "      <td>4. 15 or more cases per 100,000</td>\n",
       "      <td>9308</td>\n",
       "      <td>12.2</td>\n",
       "      <td>2020-11-22T00:00:00.000</td>\n",
       "      <td>2020-12-05T00:00:00.000</td>\n",
       "      <td>2020-12-10</td>\n",
       "    </tr>\n",
       "    <tr>\n",
       "      <th>8</th>\n",
       "      <td>HOSPITAL FOR SPECIAL CARE</td>\n",
       "      <td>NEW BRITAIN</td>\n",
       "      <td>-999999.0</td>\n",
       "      <td>15.0</td>\n",
       "      <td>88</td>\n",
       "      <td>89</td>\n",
       "      <td>NEW BRITAIN</td>\n",
       "      <td>72453</td>\n",
       "      <td>396</td>\n",
       "      <td>545</td>\n",
       "      <td>941</td>\n",
       "      <td>92.8</td>\n",
       "      <td>4. 15 or more cases per 100,000</td>\n",
       "      <td>9308</td>\n",
       "      <td>12.2</td>\n",
       "      <td>2020-11-22T00:00:00.000</td>\n",
       "      <td>2020-12-05T00:00:00.000</td>\n",
       "      <td>2020-12-10</td>\n",
       "    </tr>\n",
       "    <tr>\n",
       "      <th>9</th>\n",
       "      <td>JOHN DEMPSEY HOSPITAL</td>\n",
       "      <td>FARMINGTON</td>\n",
       "      <td>51.7</td>\n",
       "      <td>362.0</td>\n",
       "      <td>51</td>\n",
       "      <td>52</td>\n",
       "      <td>FARMINGTON</td>\n",
       "      <td>25506</td>\n",
       "      <td>48</td>\n",
       "      <td>72</td>\n",
       "      <td>120</td>\n",
       "      <td>33.6</td>\n",
       "      <td>4. 15 or more cases per 100,000</td>\n",
       "      <td>2806</td>\n",
       "      <td>4.6</td>\n",
       "      <td>2020-11-22T00:00:00.000</td>\n",
       "      <td>2020-12-05T00:00:00.000</td>\n",
       "      <td>2020-12-10</td>\n",
       "    </tr>\n",
       "    <tr>\n",
       "      <th>10</th>\n",
       "      <td>CONNECTICUT CHILDRENS MEDICAL CENTER</td>\n",
       "      <td>HARTFORD</td>\n",
       "      <td>-999999.0</td>\n",
       "      <td>-999999.0</td>\n",
       "      <td>63</td>\n",
       "      <td>64</td>\n",
       "      <td>HARTFORD</td>\n",
       "      <td>122587</td>\n",
       "      <td>589</td>\n",
       "      <td>838</td>\n",
       "      <td>1427</td>\n",
       "      <td>83.1</td>\n",
       "      <td>4. 15 or more cases per 100,000</td>\n",
       "      <td>16142</td>\n",
       "      <td>10.7</td>\n",
       "      <td>2020-11-22T00:00:00.000</td>\n",
       "      <td>2020-12-05T00:00:00.000</td>\n",
       "      <td>2020-12-10</td>\n",
       "    </tr>\n",
       "    <tr>\n",
       "      <th>11</th>\n",
       "      <td>ST FRANCIS HOSPITAL &amp; MEDICAL CENTER</td>\n",
       "      <td>HARTFORD</td>\n",
       "      <td>96.6</td>\n",
       "      <td>676.0</td>\n",
       "      <td>63</td>\n",
       "      <td>64</td>\n",
       "      <td>HARTFORD</td>\n",
       "      <td>122587</td>\n",
       "      <td>589</td>\n",
       "      <td>838</td>\n",
       "      <td>1427</td>\n",
       "      <td>83.1</td>\n",
       "      <td>4. 15 or more cases per 100,000</td>\n",
       "      <td>16142</td>\n",
       "      <td>10.7</td>\n",
       "      <td>2020-11-22T00:00:00.000</td>\n",
       "      <td>2020-12-05T00:00:00.000</td>\n",
       "      <td>2020-12-10</td>\n",
       "    </tr>\n",
       "    <tr>\n",
       "      <th>12</th>\n",
       "      <td>HARTFORD HOSPITAL</td>\n",
       "      <td>HARTFORD</td>\n",
       "      <td>163.9</td>\n",
       "      <td>1147.0</td>\n",
       "      <td>63</td>\n",
       "      <td>64</td>\n",
       "      <td>HARTFORD</td>\n",
       "      <td>122587</td>\n",
       "      <td>589</td>\n",
       "      <td>838</td>\n",
       "      <td>1427</td>\n",
       "      <td>83.1</td>\n",
       "      <td>4. 15 or more cases per 100,000</td>\n",
       "      <td>16142</td>\n",
       "      <td>10.7</td>\n",
       "      <td>2020-11-22T00:00:00.000</td>\n",
       "      <td>2020-12-05T00:00:00.000</td>\n",
       "      <td>2020-12-10</td>\n",
       "    </tr>\n",
       "    <tr>\n",
       "      <th>13</th>\n",
       "      <td>MANCHESTER MEMORIAL HOSPITAL</td>\n",
       "      <td>MANCHESTER</td>\n",
       "      <td>28.4</td>\n",
       "      <td>199.0</td>\n",
       "      <td>76</td>\n",
       "      <td>77</td>\n",
       "      <td>MANCHESTER</td>\n",
       "      <td>57699</td>\n",
       "      <td>163</td>\n",
       "      <td>245</td>\n",
       "      <td>408</td>\n",
       "      <td>50.5</td>\n",
       "      <td>4. 15 or more cases per 100,000</td>\n",
       "      <td>5947</td>\n",
       "      <td>7.8</td>\n",
       "      <td>2020-11-22T00:00:00.000</td>\n",
       "      <td>2020-12-05T00:00:00.000</td>\n",
       "      <td>2020-12-10</td>\n",
       "    </tr>\n",
       "    <tr>\n",
       "      <th>14</th>\n",
       "      <td>CHARLOTTE HUNGERFORD HOSPITAL</td>\n",
       "      <td>TORRINGTON</td>\n",
       "      <td>28.6</td>\n",
       "      <td>200.0</td>\n",
       "      <td>142</td>\n",
       "      <td>143</td>\n",
       "      <td>TORRINGTON</td>\n",
       "      <td>34228</td>\n",
       "      <td>168</td>\n",
       "      <td>162</td>\n",
       "      <td>330</td>\n",
       "      <td>68.9</td>\n",
       "      <td>4. 15 or more cases per 100,000</td>\n",
       "      <td>4552</td>\n",
       "      <td>9.1</td>\n",
       "      <td>2020-11-22T00:00:00.000</td>\n",
       "      <td>2020-12-05T00:00:00.000</td>\n",
       "      <td>2020-12-10</td>\n",
       "    </tr>\n",
       "    <tr>\n",
       "      <th>15</th>\n",
       "      <td>SHARON HOSPITAL</td>\n",
       "      <td>SHARON</td>\n",
       "      <td>5.1</td>\n",
       "      <td>36.0</td>\n",
       "      <td>124</td>\n",
       "      <td>125</td>\n",
       "      <td>SHARON</td>\n",
       "      <td>2703</td>\n",
       "      <td>4</td>\n",
       "      <td>4</td>\n",
       "      <td>8</td>\n",
       "      <td>21.1</td>\n",
       "      <td>4. 15 or more cases per 100,000</td>\n",
       "      <td>286</td>\n",
       "      <td>3.1</td>\n",
       "      <td>2020-11-22T00:00:00.000</td>\n",
       "      <td>2020-12-05T00:00:00.000</td>\n",
       "      <td>2020-12-10</td>\n",
       "    </tr>\n",
       "    <tr>\n",
       "      <th>16</th>\n",
       "      <td>MIDDLESEX HOSPITAL</td>\n",
       "      <td>MIDDLETOWN</td>\n",
       "      <td>66.6</td>\n",
       "      <td>466.0</td>\n",
       "      <td>82</td>\n",
       "      <td>83</td>\n",
       "      <td>MIDDLETOWN</td>\n",
       "      <td>46146</td>\n",
       "      <td>138</td>\n",
       "      <td>160</td>\n",
       "      <td>298</td>\n",
       "      <td>46.1</td>\n",
       "      <td>4. 15 or more cases per 100,000</td>\n",
       "      <td>8351</td>\n",
       "      <td>5.0</td>\n",
       "      <td>2020-11-22T00:00:00.000</td>\n",
       "      <td>2020-12-05T00:00:00.000</td>\n",
       "      <td>2020-12-10</td>\n",
       "    </tr>\n",
       "    <tr>\n",
       "      <th>17</th>\n",
       "      <td>YALE-NEW HAVEN HOSPITAL</td>\n",
       "      <td>NEW HAVEN</td>\n",
       "      <td>230.6</td>\n",
       "      <td>1614.0</td>\n",
       "      <td>92</td>\n",
       "      <td>93</td>\n",
       "      <td>NEW HAVEN</td>\n",
       "      <td>130418</td>\n",
       "      <td>378</td>\n",
       "      <td>378</td>\n",
       "      <td>756</td>\n",
       "      <td>41.4</td>\n",
       "      <td>4. 15 or more cases per 100,000</td>\n",
       "      <td>11130</td>\n",
       "      <td>7.8</td>\n",
       "      <td>2020-11-22T00:00:00.000</td>\n",
       "      <td>2020-12-05T00:00:00.000</td>\n",
       "      <td>2020-12-10</td>\n",
       "    </tr>\n",
       "    <tr>\n",
       "      <th>18</th>\n",
       "      <td>WATERBURY HOSPITAL</td>\n",
       "      <td>WATERBURY</td>\n",
       "      <td>58.6</td>\n",
       "      <td>410.0</td>\n",
       "      <td>150</td>\n",
       "      <td>151</td>\n",
       "      <td>WATERBURY</td>\n",
       "      <td>108093</td>\n",
       "      <td>742</td>\n",
       "      <td>953</td>\n",
       "      <td>1695</td>\n",
       "      <td>112.0</td>\n",
       "      <td>4. 15 or more cases per 100,000</td>\n",
       "      <td>16459</td>\n",
       "      <td>12.9</td>\n",
       "      <td>2020-11-22T00:00:00.000</td>\n",
       "      <td>2020-12-05T00:00:00.000</td>\n",
       "      <td>2020-12-10</td>\n",
       "    </tr>\n",
       "    <tr>\n",
       "      <th>19</th>\n",
       "      <td>SAINT MARY'S HOSPITAL</td>\n",
       "      <td>WATERBURY</td>\n",
       "      <td>54.0</td>\n",
       "      <td>378.0</td>\n",
       "      <td>150</td>\n",
       "      <td>151</td>\n",
       "      <td>WATERBURY</td>\n",
       "      <td>108093</td>\n",
       "      <td>742</td>\n",
       "      <td>953</td>\n",
       "      <td>1695</td>\n",
       "      <td>112.0</td>\n",
       "      <td>4. 15 or more cases per 100,000</td>\n",
       "      <td>16459</td>\n",
       "      <td>12.9</td>\n",
       "      <td>2020-11-22T00:00:00.000</td>\n",
       "      <td>2020-12-05T00:00:00.000</td>\n",
       "      <td>2020-12-10</td>\n",
       "    </tr>\n",
       "    <tr>\n",
       "      <th>20</th>\n",
       "      <td>MIDSTATE MEDICAL CENTER</td>\n",
       "      <td>MERIDEN</td>\n",
       "      <td>38.6</td>\n",
       "      <td>270.0</td>\n",
       "      <td>79</td>\n",
       "      <td>80</td>\n",
       "      <td>MERIDEN</td>\n",
       "      <td>59540</td>\n",
       "      <td>295</td>\n",
       "      <td>453</td>\n",
       "      <td>748</td>\n",
       "      <td>89.7</td>\n",
       "      <td>4. 15 or more cases per 100,000</td>\n",
       "      <td>8833</td>\n",
       "      <td>10.4</td>\n",
       "      <td>2020-11-22T00:00:00.000</td>\n",
       "      <td>2020-12-05T00:00:00.000</td>\n",
       "      <td>2020-12-10</td>\n",
       "    </tr>\n",
       "    <tr>\n",
       "      <th>21</th>\n",
       "      <td>CONNECTICUT HOSPICE INC,THE</td>\n",
       "      <td>BRANFORD</td>\n",
       "      <td>-999999.0</td>\n",
       "      <td>8.0</td>\n",
       "      <td>13</td>\n",
       "      <td>14</td>\n",
       "      <td>BRANFORD</td>\n",
       "      <td>28005</td>\n",
       "      <td>96</td>\n",
       "      <td>63</td>\n",
       "      <td>159</td>\n",
       "      <td>40.6</td>\n",
       "      <td>4. 15 or more cases per 100,000</td>\n",
       "      <td>2721</td>\n",
       "      <td>6.5</td>\n",
       "      <td>2020-11-22T00:00:00.000</td>\n",
       "      <td>2020-12-05T00:00:00.000</td>\n",
       "      <td>2020-12-10</td>\n",
       "    </tr>\n",
       "    <tr>\n",
       "      <th>22</th>\n",
       "      <td>GAYLORD HOSPITAL INC</td>\n",
       "      <td>WALLINGFORD</td>\n",
       "      <td>4.6</td>\n",
       "      <td>32.0</td>\n",
       "      <td>147</td>\n",
       "      <td>148</td>\n",
       "      <td>WALLINGFORD</td>\n",
       "      <td>44535</td>\n",
       "      <td>168</td>\n",
       "      <td>184</td>\n",
       "      <td>352</td>\n",
       "      <td>56.5</td>\n",
       "      <td>4. 15 or more cases per 100,000</td>\n",
       "      <td>4910</td>\n",
       "      <td>8.5</td>\n",
       "      <td>2020-11-22T00:00:00.000</td>\n",
       "      <td>2020-12-05T00:00:00.000</td>\n",
       "      <td>2020-12-10</td>\n",
       "    </tr>\n",
       "    <tr>\n",
       "      <th>23</th>\n",
       "      <td>GRIFFIN HOSPITAL</td>\n",
       "      <td>DERBY</td>\n",
       "      <td>25.7</td>\n",
       "      <td>180.0</td>\n",
       "      <td>36</td>\n",
       "      <td>37</td>\n",
       "      <td>DERBY</td>\n",
       "      <td>12515</td>\n",
       "      <td>55</td>\n",
       "      <td>42</td>\n",
       "      <td>97</td>\n",
       "      <td>55.4</td>\n",
       "      <td>4. 15 or more cases per 100,000</td>\n",
       "      <td>1100</td>\n",
       "      <td>10.3</td>\n",
       "      <td>2020-11-22T00:00:00.000</td>\n",
       "      <td>2020-12-05T00:00:00.000</td>\n",
       "      <td>2020-12-10</td>\n",
       "    </tr>\n",
       "    <tr>\n",
       "      <th>24</th>\n",
       "      <td>LAWRENCE &amp; MEMORIAL HOSPITAL</td>\n",
       "      <td>NEW LONDON</td>\n",
       "      <td>39.0</td>\n",
       "      <td>273.0</td>\n",
       "      <td>94</td>\n",
       "      <td>95</td>\n",
       "      <td>NEW LONDON</td>\n",
       "      <td>26939</td>\n",
       "      <td>91</td>\n",
       "      <td>109</td>\n",
       "      <td>200</td>\n",
       "      <td>53.0</td>\n",
       "      <td>4. 15 or more cases per 100,000</td>\n",
       "      <td>4277</td>\n",
       "      <td>5.2</td>\n",
       "      <td>2020-11-22T00:00:00.000</td>\n",
       "      <td>2020-12-05T00:00:00.000</td>\n",
       "      <td>2020-12-10</td>\n",
       "    </tr>\n",
       "    <tr>\n",
       "      <th>25</th>\n",
       "      <td>WILLIAM W BACKUS HOSPITAL</td>\n",
       "      <td>NORWICH</td>\n",
       "      <td>44.4</td>\n",
       "      <td>311.0</td>\n",
       "      <td>103</td>\n",
       "      <td>104</td>\n",
       "      <td>NORWICH</td>\n",
       "      <td>39136</td>\n",
       "      <td>96</td>\n",
       "      <td>113</td>\n",
       "      <td>209</td>\n",
       "      <td>38.1</td>\n",
       "      <td>4. 15 or more cases per 100,000</td>\n",
       "      <td>3931</td>\n",
       "      <td>6.1</td>\n",
       "      <td>2020-11-22T00:00:00.000</td>\n",
       "      <td>2020-12-05T00:00:00.000</td>\n",
       "      <td>2020-12-10</td>\n",
       "    </tr>\n",
       "    <tr>\n",
       "      <th>26</th>\n",
       "      <td>DAY KIMBALL HOSPITAL</td>\n",
       "      <td>PUTNAM</td>\n",
       "      <td>7.4</td>\n",
       "      <td>52.0</td>\n",
       "      <td>115</td>\n",
       "      <td>116</td>\n",
       "      <td>PUTNAM</td>\n",
       "      <td>9395</td>\n",
       "      <td>28</td>\n",
       "      <td>32</td>\n",
       "      <td>60</td>\n",
       "      <td>45.6</td>\n",
       "      <td>4. 15 or more cases per 100,000</td>\n",
       "      <td>878</td>\n",
       "      <td>7.5</td>\n",
       "      <td>2020-11-22T00:00:00.000</td>\n",
       "      <td>2020-12-05T00:00:00.000</td>\n",
       "      <td>2020-12-10</td>\n",
       "    </tr>\n",
       "  </tbody>\n",
       "</table>\n",
       "</div>"
      ],
      "text/plain": [
       "                           hospital_name         city  \\\n",
       "0       GREENWICH HOSPITAL ASSOCIATION -    GREENWICH   \n",
       "1                       NORWALK HOSPITAL      NORWALK   \n",
       "2            ST VINCENT'S MEDICAL CENTER   BRIDGEPORT   \n",
       "3                    BRIDGEPORT HOSPITAL   BRIDGEPORT   \n",
       "4                       DANBURY HOSPITAL      DANBURY   \n",
       "5                      STAMFORD HOSPITAL     STAMFORD   \n",
       "6                       BRISTOL HOSPITAL      BRISTOL   \n",
       "7   HOSPITAL OF CENTRAL CONNECTICUT, THE  NEW BRITAIN   \n",
       "8              HOSPITAL FOR SPECIAL CARE  NEW BRITAIN   \n",
       "9                  JOHN DEMPSEY HOSPITAL   FARMINGTON   \n",
       "10  CONNECTICUT CHILDRENS MEDICAL CENTER     HARTFORD   \n",
       "11  ST FRANCIS HOSPITAL & MEDICAL CENTER     HARTFORD   \n",
       "12                     HARTFORD HOSPITAL     HARTFORD   \n",
       "13          MANCHESTER MEMORIAL HOSPITAL   MANCHESTER   \n",
       "14         CHARLOTTE HUNGERFORD HOSPITAL   TORRINGTON   \n",
       "15                       SHARON HOSPITAL       SHARON   \n",
       "16                    MIDDLESEX HOSPITAL   MIDDLETOWN   \n",
       "17               YALE-NEW HAVEN HOSPITAL    NEW HAVEN   \n",
       "18                    WATERBURY HOSPITAL    WATERBURY   \n",
       "19                 SAINT MARY'S HOSPITAL    WATERBURY   \n",
       "20               MIDSTATE MEDICAL CENTER      MERIDEN   \n",
       "21           CONNECTICUT HOSPICE INC,THE     BRANFORD   \n",
       "22                  GAYLORD HOSPITAL INC  WALLINGFORD   \n",
       "23                      GRIFFIN HOSPITAL        DERBY   \n",
       "24          LAWRENCE & MEMORIAL HOSPITAL   NEW LONDON   \n",
       "25             WILLIAM W BACKUS HOSPITAL      NORWICH   \n",
       "26                  DAY KIMBALL HOSPITAL       PUTNAM   \n",
       "\n",
       "    total_adult_patients_hospitalized_confirmed_and_suspected_covid_7_day_avg  \\\n",
       "0                                                37.6                           \n",
       "1                                                52.1                           \n",
       "2                                                30.1                           \n",
       "3                                               121.9                           \n",
       "4                                                73.9                           \n",
       "5                                                37.9                           \n",
       "6                                                15.7                           \n",
       "7                                                60.7                           \n",
       "8                                           -999999.0                           \n",
       "9                                                51.7                           \n",
       "10                                          -999999.0                           \n",
       "11                                               96.6                           \n",
       "12                                              163.9                           \n",
       "13                                               28.4                           \n",
       "14                                               28.6                           \n",
       "15                                                5.1                           \n",
       "16                                               66.6                           \n",
       "17                                              230.6                           \n",
       "18                                               58.6                           \n",
       "19                                               54.0                           \n",
       "20                                               38.6                           \n",
       "21                                          -999999.0                           \n",
       "22                                                4.6                           \n",
       "23                                               25.7                           \n",
       "24                                               39.0                           \n",
       "25                                               44.4                           \n",
       "26                                                7.4                           \n",
       "\n",
       "    total_adult_patients_hospitalized_confirmed_and_suspected_covid_7_day_sum  \\\n",
       "0                                               263.0                           \n",
       "1                                               365.0                           \n",
       "2                                               211.0                           \n",
       "3                                               853.0                           \n",
       "4                                               517.0                           \n",
       "5                                               265.0                           \n",
       "6                                               110.0                           \n",
       "7                                               425.0                           \n",
       "8                                                15.0                           \n",
       "9                                               362.0                           \n",
       "10                                          -999999.0                           \n",
       "11                                              676.0                           \n",
       "12                                             1147.0                           \n",
       "13                                              199.0                           \n",
       "14                                              200.0                           \n",
       "15                                               36.0                           \n",
       "16                                              466.0                           \n",
       "17                                             1614.0                           \n",
       "18                                              410.0                           \n",
       "19                                              378.0                           \n",
       "20                                              270.0                           \n",
       "21                                                8.0                           \n",
       "22                                               32.0                           \n",
       "23                                              180.0                           \n",
       "24                                              273.0                           \n",
       "25                                              311.0                           \n",
       "26                                               52.0                           \n",
       "\n",
       "    Unnamed: 0  town_no         town     pop  casesweek1  casesweek2  \\\n",
       "0           56       57    GREENWICH   62727         135         154   \n",
       "1          102      103      NORWALK   89047         326         434   \n",
       "2           14       15   BRIDGEPORT  144900         728         805   \n",
       "3           14       15   BRIDGEPORT  144900         728         805   \n",
       "4           33       34      DANBURY   84730         513         706   \n",
       "5          134      135     STAMFORD  129775         543         685   \n",
       "6           16       17      BRISTOL   60032         195         294   \n",
       "7           88       89  NEW BRITAIN   72453         396         545   \n",
       "8           88       89  NEW BRITAIN   72453         396         545   \n",
       "9           51       52   FARMINGTON   25506          48          72   \n",
       "10          63       64     HARTFORD  122587         589         838   \n",
       "11          63       64     HARTFORD  122587         589         838   \n",
       "12          63       64     HARTFORD  122587         589         838   \n",
       "13          76       77   MANCHESTER   57699         163         245   \n",
       "14         142      143   TORRINGTON   34228         168         162   \n",
       "15         124      125       SHARON    2703           4           4   \n",
       "16          82       83   MIDDLETOWN   46146         138         160   \n",
       "17          92       93    NEW HAVEN  130418         378         378   \n",
       "18         150      151    WATERBURY  108093         742         953   \n",
       "19         150      151    WATERBURY  108093         742         953   \n",
       "20          79       80      MERIDEN   59540         295         453   \n",
       "21          13       14     BRANFORD   28005          96          63   \n",
       "22         147      148  WALLINGFORD   44535         168         184   \n",
       "23          36       37        DERBY   12515          55          42   \n",
       "24          94       95   NEW LONDON   26939          91         109   \n",
       "25         103      104      NORWICH   39136          96         113   \n",
       "26         115      116       PUTNAM    9395          28          32   \n",
       "\n",
       "    totalcases  caserate                     ratecategory  totaltests  \\\n",
       "0          289      32.9  4. 15 or more cases per 100,000        6344   \n",
       "1          760      61.0  4. 15 or more cases per 100,000        9997   \n",
       "2         1533      75.6  4. 15 or more cases per 100,000       15340   \n",
       "3         1533      75.6  4. 15 or more cases per 100,000       15340   \n",
       "4         1219     102.8  4. 15 or more cases per 100,000       10093   \n",
       "5         1228      67.6  4. 15 or more cases per 100,000       14144   \n",
       "6          489      58.2  4. 15 or more cases per 100,000        6826   \n",
       "7          941      92.8  4. 15 or more cases per 100,000        9308   \n",
       "8          941      92.8  4. 15 or more cases per 100,000        9308   \n",
       "9          120      33.6  4. 15 or more cases per 100,000        2806   \n",
       "10        1427      83.1  4. 15 or more cases per 100,000       16142   \n",
       "11        1427      83.1  4. 15 or more cases per 100,000       16142   \n",
       "12        1427      83.1  4. 15 or more cases per 100,000       16142   \n",
       "13         408      50.5  4. 15 or more cases per 100,000        5947   \n",
       "14         330      68.9  4. 15 or more cases per 100,000        4552   \n",
       "15           8      21.1  4. 15 or more cases per 100,000         286   \n",
       "16         298      46.1  4. 15 or more cases per 100,000        8351   \n",
       "17         756      41.4  4. 15 or more cases per 100,000       11130   \n",
       "18        1695     112.0  4. 15 or more cases per 100,000       16459   \n",
       "19        1695     112.0  4. 15 or more cases per 100,000       16459   \n",
       "20         748      89.7  4. 15 or more cases per 100,000        8833   \n",
       "21         159      40.6  4. 15 or more cases per 100,000        2721   \n",
       "22         352      56.5  4. 15 or more cases per 100,000        4910   \n",
       "23          97      55.4  4. 15 or more cases per 100,000        1100   \n",
       "24         200      53.0  4. 15 or more cases per 100,000        4277   \n",
       "25         209      38.1  4. 15 or more cases per 100,000        3931   \n",
       "26          60      45.6  4. 15 or more cases per 100,000         878   \n",
       "\n",
       "    percentpositive    reportperiodstartdate      reportperiodenddate  \\\n",
       "0               5.2  2020-11-22T00:00:00.000  2020-12-05T00:00:00.000   \n",
       "1               9.5  2020-11-22T00:00:00.000  2020-12-05T00:00:00.000   \n",
       "2              12.3  2020-11-22T00:00:00.000  2020-12-05T00:00:00.000   \n",
       "3              12.3  2020-11-22T00:00:00.000  2020-12-05T00:00:00.000   \n",
       "4              14.6  2020-11-22T00:00:00.000  2020-12-05T00:00:00.000   \n",
       "5              10.6  2020-11-22T00:00:00.000  2020-12-05T00:00:00.000   \n",
       "6               8.6  2020-11-22T00:00:00.000  2020-12-05T00:00:00.000   \n",
       "7              12.2  2020-11-22T00:00:00.000  2020-12-05T00:00:00.000   \n",
       "8              12.2  2020-11-22T00:00:00.000  2020-12-05T00:00:00.000   \n",
       "9               4.6  2020-11-22T00:00:00.000  2020-12-05T00:00:00.000   \n",
       "10             10.7  2020-11-22T00:00:00.000  2020-12-05T00:00:00.000   \n",
       "11             10.7  2020-11-22T00:00:00.000  2020-12-05T00:00:00.000   \n",
       "12             10.7  2020-11-22T00:00:00.000  2020-12-05T00:00:00.000   \n",
       "13              7.8  2020-11-22T00:00:00.000  2020-12-05T00:00:00.000   \n",
       "14              9.1  2020-11-22T00:00:00.000  2020-12-05T00:00:00.000   \n",
       "15              3.1  2020-11-22T00:00:00.000  2020-12-05T00:00:00.000   \n",
       "16              5.0  2020-11-22T00:00:00.000  2020-12-05T00:00:00.000   \n",
       "17              7.8  2020-11-22T00:00:00.000  2020-12-05T00:00:00.000   \n",
       "18             12.9  2020-11-22T00:00:00.000  2020-12-05T00:00:00.000   \n",
       "19             12.9  2020-11-22T00:00:00.000  2020-12-05T00:00:00.000   \n",
       "20             10.4  2020-11-22T00:00:00.000  2020-12-05T00:00:00.000   \n",
       "21              6.5  2020-11-22T00:00:00.000  2020-12-05T00:00:00.000   \n",
       "22              8.5  2020-11-22T00:00:00.000  2020-12-05T00:00:00.000   \n",
       "23             10.3  2020-11-22T00:00:00.000  2020-12-05T00:00:00.000   \n",
       "24              5.2  2020-11-22T00:00:00.000  2020-12-05T00:00:00.000   \n",
       "25              6.1  2020-11-22T00:00:00.000  2020-12-05T00:00:00.000   \n",
       "26              7.5  2020-11-22T00:00:00.000  2020-12-05T00:00:00.000   \n",
       "\n",
       "    updatedate  \n",
       "0   2020-12-10  \n",
       "1   2020-12-10  \n",
       "2   2020-12-10  \n",
       "3   2020-12-10  \n",
       "4   2020-12-10  \n",
       "5   2020-12-10  \n",
       "6   2020-12-10  \n",
       "7   2020-12-10  \n",
       "8   2020-12-10  \n",
       "9   2020-12-10  \n",
       "10  2020-12-10  \n",
       "11  2020-12-10  \n",
       "12  2020-12-10  \n",
       "13  2020-12-10  \n",
       "14  2020-12-10  \n",
       "15  2020-12-10  \n",
       "16  2020-12-10  \n",
       "17  2020-12-10  \n",
       "18  2020-12-10  \n",
       "19  2020-12-10  \n",
       "20  2020-12-10  \n",
       "21  2020-12-10  \n",
       "22  2020-12-10  \n",
       "23  2020-12-10  \n",
       "24  2020-12-10  \n",
       "25  2020-12-10  \n",
       "26  2020-12-10  "
      ]
     },
     "execution_count": 85,
     "metadata": {},
     "output_type": "execute_result"
    }
   ],
   "source": [
    "df_covid_by_hosp.merge(df_pop_pos, left_on='city', right_on='town')"
   ]
  },
  {
   "cell_type": "markdown",
   "metadata": {},
   "source": [
    "# Hospital analysis"
   ]
  },
  {
   "cell_type": "code",
   "execution_count": 86,
   "metadata": {},
   "outputs": [
    {
     "name": "stderr",
     "output_type": "stream",
     "text": [
      "/Users/kasturipananjady/.pyenv/versions/3.7.1/lib/python3.7/site-packages/pandas/plotting/_matplotlib/core.py:1235: UserWarning: FixedFormatter should only be used together with FixedLocator\n",
      "  ax.set_xticklabels(xticklabels)\n",
      "/Users/kasturipananjady/.pyenv/versions/3.7.1/lib/python3.7/site-packages/pandas/plotting/_matplotlib/core.py:1235: UserWarning: FixedFormatter should only be used together with FixedLocator\n",
      "  ax.set_xticklabels(xticklabels)\n",
      "/Users/kasturipananjady/.pyenv/versions/3.7.1/lib/python3.7/site-packages/pandas/plotting/_matplotlib/core.py:1235: UserWarning: FixedFormatter should only be used together with FixedLocator\n",
      "  ax.set_xticklabels(xticklabels)\n",
      "/Users/kasturipananjady/.pyenv/versions/3.7.1/lib/python3.7/site-packages/pandas/plotting/_matplotlib/core.py:1235: UserWarning: FixedFormatter should only be used together with FixedLocator\n",
      "  ax.set_xticklabels(xticklabels)\n",
      "/Users/kasturipananjady/.pyenv/versions/3.7.1/lib/python3.7/site-packages/pandas/plotting/_matplotlib/core.py:1235: UserWarning: FixedFormatter should only be used together with FixedLocator\n",
      "  ax.set_xticklabels(xticklabels)\n",
      "/Users/kasturipananjady/.pyenv/versions/3.7.1/lib/python3.7/site-packages/pandas/plotting/_matplotlib/core.py:1235: UserWarning: FixedFormatter should only be used together with FixedLocator\n",
      "  ax.set_xticklabels(xticklabels)\n",
      "/Users/kasturipananjady/.pyenv/versions/3.7.1/lib/python3.7/site-packages/pandas/plotting/_matplotlib/core.py:1235: UserWarning: FixedFormatter should only be used together with FixedLocator\n",
      "  ax.set_xticklabels(xticklabels)\n",
      "/Users/kasturipananjady/.pyenv/versions/3.7.1/lib/python3.7/site-packages/pandas/plotting/_matplotlib/core.py:1235: UserWarning: FixedFormatter should only be used together with FixedLocator\n",
      "  ax.set_xticklabels(xticklabels)\n",
      "/Users/kasturipananjady/.pyenv/versions/3.7.1/lib/python3.7/site-packages/pandas/plotting/_matplotlib/core.py:1235: UserWarning: FixedFormatter should only be used together with FixedLocator\n",
      "  ax.set_xticklabels(xticklabels)\n",
      "/Users/kasturipananjady/.pyenv/versions/3.7.1/lib/python3.7/site-packages/pandas/plotting/_matplotlib/core.py:1235: UserWarning: FixedFormatter should only be used together with FixedLocator\n",
      "  ax.set_xticklabels(xticklabels)\n",
      "/Users/kasturipananjady/.pyenv/versions/3.7.1/lib/python3.7/site-packages/pandas/plotting/_matplotlib/core.py:1235: UserWarning: FixedFormatter should only be used together with FixedLocator\n",
      "  ax.set_xticklabels(xticklabels)\n",
      "/Users/kasturipananjady/.pyenv/versions/3.7.1/lib/python3.7/site-packages/pandas/plotting/_matplotlib/core.py:1235: UserWarning: FixedFormatter should only be used together with FixedLocator\n",
      "  ax.set_xticklabels(xticklabels)\n",
      "/Users/kasturipananjady/.pyenv/versions/3.7.1/lib/python3.7/site-packages/pandas/plotting/_matplotlib/core.py:1235: UserWarning: FixedFormatter should only be used together with FixedLocator\n",
      "  ax.set_xticklabels(xticklabels)\n",
      "/Users/kasturipananjady/.pyenv/versions/3.7.1/lib/python3.7/site-packages/pandas/plotting/_matplotlib/core.py:1235: UserWarning: FixedFormatter should only be used together with FixedLocator\n",
      "  ax.set_xticklabels(xticklabels)\n",
      "/Users/kasturipananjady/.pyenv/versions/3.7.1/lib/python3.7/site-packages/pandas/plotting/_matplotlib/core.py:1235: UserWarning: FixedFormatter should only be used together with FixedLocator\n",
      "  ax.set_xticklabels(xticklabels)\n",
      "/Users/kasturipananjady/.pyenv/versions/3.7.1/lib/python3.7/site-packages/pandas/plotting/_matplotlib/core.py:1235: UserWarning: FixedFormatter should only be used together with FixedLocator\n",
      "  ax.set_xticklabels(xticklabels)\n",
      "/Users/kasturipananjady/.pyenv/versions/3.7.1/lib/python3.7/site-packages/pandas/plotting/_matplotlib/core.py:1235: UserWarning: FixedFormatter should only be used together with FixedLocator\n",
      "  ax.set_xticklabels(xticklabels)\n",
      "/Users/kasturipananjady/.pyenv/versions/3.7.1/lib/python3.7/site-packages/pandas/plotting/_matplotlib/core.py:1235: UserWarning: FixedFormatter should only be used together with FixedLocator\n",
      "  ax.set_xticklabels(xticklabels)\n",
      "/Users/kasturipananjady/.pyenv/versions/3.7.1/lib/python3.7/site-packages/pandas/plotting/_matplotlib/core.py:1235: UserWarning: FixedFormatter should only be used together with FixedLocator\n",
      "  ax.set_xticklabels(xticklabels)\n",
      "/Users/kasturipananjady/.pyenv/versions/3.7.1/lib/python3.7/site-packages/pandas/plotting/_matplotlib/core.py:1235: UserWarning: FixedFormatter should only be used together with FixedLocator\n",
      "  ax.set_xticklabels(xticklabels)\n",
      "/Users/kasturipananjady/.pyenv/versions/3.7.1/lib/python3.7/site-packages/pandas/plotting/_matplotlib/core.py:328: RuntimeWarning: More than 20 figures have been opened. Figures created through the pyplot interface (`matplotlib.pyplot.figure`) are retained until explicitly closed and may consume too much memory. (To control this warning, see the rcParam `figure.max_open_warning`).\n",
      "  fig = self.plt.figure(figsize=self.figsize)\n",
      "/Users/kasturipananjady/.pyenv/versions/3.7.1/lib/python3.7/site-packages/pandas/plotting/_matplotlib/core.py:1235: UserWarning: FixedFormatter should only be used together with FixedLocator\n",
      "  ax.set_xticklabels(xticklabels)\n",
      "/Users/kasturipananjady/.pyenv/versions/3.7.1/lib/python3.7/site-packages/pandas/plotting/_matplotlib/core.py:1235: UserWarning: FixedFormatter should only be used together with FixedLocator\n",
      "  ax.set_xticklabels(xticklabels)\n",
      "/Users/kasturipananjady/.pyenv/versions/3.7.1/lib/python3.7/site-packages/pandas/plotting/_matplotlib/core.py:1235: UserWarning: FixedFormatter should only be used together with FixedLocator\n",
      "  ax.set_xticklabels(xticklabels)\n",
      "/Users/kasturipananjady/.pyenv/versions/3.7.1/lib/python3.7/site-packages/pandas/plotting/_matplotlib/core.py:1235: UserWarning: FixedFormatter should only be used together with FixedLocator\n",
      "  ax.set_xticklabels(xticklabels)\n",
      "/Users/kasturipananjady/.pyenv/versions/3.7.1/lib/python3.7/site-packages/pandas/plotting/_matplotlib/core.py:1235: UserWarning: FixedFormatter should only be used together with FixedLocator\n",
      "  ax.set_xticklabels(xticklabels)\n",
      "/Users/kasturipananjady/.pyenv/versions/3.7.1/lib/python3.7/site-packages/pandas/plotting/_matplotlib/core.py:1235: UserWarning: FixedFormatter should only be used together with FixedLocator\n",
      "  ax.set_xticklabels(xticklabels)\n",
      "/Users/kasturipananjady/.pyenv/versions/3.7.1/lib/python3.7/site-packages/pandas/plotting/_matplotlib/core.py:1235: UserWarning: FixedFormatter should only be used together with FixedLocator\n",
      "  ax.set_xticklabels(xticklabels)\n",
      "/Users/kasturipananjady/.pyenv/versions/3.7.1/lib/python3.7/site-packages/pandas/plotting/_matplotlib/core.py:1235: UserWarning: FixedFormatter should only be used together with FixedLocator\n",
      "  ax.set_xticklabels(xticklabels)\n",
      "/Users/kasturipananjady/.pyenv/versions/3.7.1/lib/python3.7/site-packages/pandas/plotting/_matplotlib/core.py:1235: UserWarning: FixedFormatter should only be used together with FixedLocator\n",
      "  ax.set_xticklabels(xticklabels)\n",
      "/Users/kasturipananjady/.pyenv/versions/3.7.1/lib/python3.7/site-packages/pandas/plotting/_matplotlib/core.py:1235: UserWarning: FixedFormatter should only be used together with FixedLocator\n",
      "  ax.set_xticklabels(xticklabels)\n"
     ]
    },
    {
     "data": {
      "image/png": "[encoded data removed]",
      "text/plain": [
       "<Figure size 432x288 with 1 Axes>"
      ]
     },
     "metadata": {
      "needs_background": "light"
     },
     "output_type": "display_data"
    },
    {
     "data": {
      "image/png": "[encoded data removed]",
      "text/plain": [
       "<Figure size 432x288 with 1 Axes>"
      ]
     },
     "metadata": {
      "needs_background": "light"
     },
     "output_type": "display_data"
    },
    {
     "data": {
      "image/png": "[encoded data removed]",
      "text/plain": [
       "<Figure size 432x288 with 1 Axes>"
      ]
     },
     "metadata": {
      "needs_background": "light"
     },
     "output_type": "display_data"
    },
    {
     "data": {
      "image/png": "[encoded data removed]",
      "text/plain": [
       "<Figure size 432x288 with 1 Axes>"
      ]
     },
     "metadata": {
      "needs_background": "light"
     },
     "output_type": "display_data"
    },
    {
     "data": {
      "image/png": "[encoded data removed]",
      "text/plain": [
       "<Figure size 432x288 with 1 Axes>"
      ]
     },
     "metadata": {
      "needs_background": "light"
     },
     "output_type": "display_data"
    },
    {
     "data": {
      "image/png": "[encoded data removed]",
      "text/plain": [
       "<Figure size 432x288 with 1 Axes>"
      ]
     },
     "metadata": {
      "needs_background": "light"
     },
     "output_type": "display_data"
    },
    {
     "data": {
      "image/png": "[encoded data removed]",
      "text/plain": [
       "<Figure size 432x288 with 1 Axes>"
      ]
     },
     "metadata": {
      "needs_background": "light"
     },
     "output_type": "display_data"
    },
    {
     "data": {
      "image/png": "[encoded data removed]",
      "text/plain": [
       "<Figure size 432x288 with 1 Axes>"
      ]
     },
     "metadata": {
      "needs_background": "light"
     },
     "output_type": "display_data"
    },
    {
     "data": {
      "image/png": "[encoded data removed]",
      "text/plain": [
       "<Figure size 432x288 with 1 Axes>"
      ]
     },
     "metadata": {
      "needs_background": "light"
     },
     "output_type": "display_data"
    },
    {
     "data": {
      "image/png": "[encoded data removed]",
      "text/plain": [
       "<Figure size 432x288 with 1 Axes>"
      ]
     },
     "metadata": {
      "needs_background": "light"
     },
     "output_type": "display_data"
    },
    {
     "data": {
      "image/png": "[encoded data removed]",
      "text/plain": [
       "<Figure size 432x288 with 1 Axes>"
      ]
     },
     "metadata": {
      "needs_background": "light"
     },
     "output_type": "display_data"
    },
    {
     "data": {
      "image/png": "[encoded data removed]",
      "text/plain": [
       "<Figure size 432x288 with 1 Axes>"
      ]
     },
     "metadata": {
      "needs_background": "light"
     },
     "output_type": "display_data"
    },
    {
     "data": {
      "image/png": "[encoded data removed]",
      "text/plain": [
       "<Figure size 432x288 with 1 Axes>"
      ]
     },
     "metadata": {
      "needs_background": "light"
     },
     "output_type": "display_data"
    },
    {
     "data": {
      "image/png": "[encoded data removed]",
      "text/plain": [
       "<Figure size 432x288 with 1 Axes>"
      ]
     },
     "metadata": {
      "needs_background": "light"
     },
     "output_type": "display_data"
    },
    {
     "data": {
      "image/png": "[encoded data removed]",
      "text/plain": [
       "<Figure size 432x288 with 1 Axes>"
      ]
     },
     "metadata": {
      "needs_background": "light"
     },
     "output_type": "display_data"
    },
    {
     "data": {
      "image/png": "[encoded data removed]",
      "text/plain": [
       "<Figure size 432x288 with 1 Axes>"
      ]
     },
     "metadata": {
      "needs_background": "light"
     },
     "output_type": "display_data"
    },
    {
     "data": {
      "image/png": "[encoded data removed]",
      "text/plain": [
       "<Figure size 432x288 with 1 Axes>"
      ]
     },
     "metadata": {
      "needs_background": "light"
     },
     "output_type": "display_data"
    },
    {
     "data": {
      "image/png": "[encoded data removed]",
      "text/plain": [
       "<Figure size 432x288 with 1 Axes>"
      ]
     },
     "metadata": {
      "needs_background": "light"
     },
     "output_type": "display_data"
    },
    {
     "data": {
      "image/png": "[encoded data removed]",
      "text/plain": [
       "<Figure size 432x288 with 1 Axes>"
      ]
     },
     "metadata": {
      "needs_background": "light"
     },
     "output_type": "display_data"
    },
    {
     "data": {
      "image/png": "[encoded data removed]",
      "text/plain": [
       "<Figure size 432x288 with 1 Axes>"
      ]
     },
     "metadata": {
      "needs_background": "light"
     },
     "output_type": "display_data"
    },
    {
     "data": {
      "image/png": "[encoded data removed]",
      "text/plain": [
       "<Figure size 432x288 with 1 Axes>"
      ]
     },
     "metadata": {
      "needs_background": "light"
     },
     "output_type": "display_data"
    },
    {
     "data": {
      "image/png": "[encoded data removed]",
      "text/plain": [
       "<Figure size 432x288 with 1 Axes>"
      ]
     },
     "metadata": {
      "needs_background": "light"
     },
     "output_type": "display_data"
    },
    {
     "data": {
      "image/png": "[encoded data removed]",
      "text/plain": [
       "<Figure size 432x288 with 1 Axes>"
      ]
     },
     "metadata": {
      "needs_background": "light"
     },
     "output_type": "display_data"
    },
    {
     "data": {
      "image/png": "[encoded data removed]",
      "text/plain": [
       "<Figure size 432x288 with 1 Axes>"
      ]
     },
     "metadata": {
      "needs_background": "light"
     },
     "output_type": "display_data"
    },
    {
     "data": {
      "image/png": "[encoded data removed]",
      "text/plain": [
       "<Figure size 432x288 with 1 Axes>"
      ]
     },
     "metadata": {
      "needs_background": "light"
     },
     "output_type": "display_data"
    },
    {
     "data": {
      "image/png": "[encoded data removed]",
      "text/plain": [
       "<Figure size 432x288 with 1 Axes>"
      ]
     },
     "metadata": {
      "needs_background": "light"
     },
     "output_type": "display_data"
    },
    {
     "data": {
      "image/png": "[encoded data removed]",
      "text/plain": [
       "<Figure size 432x288 with 1 Axes>"
      ]
     },
     "metadata": {
      "needs_background": "light"
     },
     "output_type": "display_data"
    },
    {
     "data": {
      "image/png": "[encoded data removed]",
      "text/plain": [
       "<Figure size 432x288 with 1 Axes>"
      ]
     },
     "metadata": {
      "needs_background": "light"
     },
     "output_type": "display_data"
    },
    {
     "data": {
      "image/png": "[encoded data removed]",
      "text/plain": [
       "<Figure size 432x288 with 1 Axes>"
      ]
     },
     "metadata": {
      "needs_background": "light"
     },
     "output_type": "display_data"
    },
    {
     "data": {
      "image/png": "[encoded data removed]",
      "text/plain": [
       "<Figure size 432x288 with 1 Axes>"
      ]
     },
     "metadata": {
      "needs_background": "light"
     },
     "output_type": "display_data"
    }
   ],
   "source": [
    "for name in list(df_ct['hospital_name'].unique()):\n",
    "#     print(name)\n",
    "    df_mary = df_ct[df_ct['hospital_name'].str.contains(name)]\n",
    " #   print('inpatient')\n",
    "#     ax = df_mary.sort_values(by='collection_week').plot(x='collection_week',y='inpatient_beds_7_day_avg')\n",
    "#     ax.set_title(f'{name}_inpatient')\n",
    "  #  print('ICUs')\n",
    "    ax = df_mary.sort_values(by='collection_week').plot(x='collection_week',y='total_staffed_adult_icu_beds_7_day_avg')\n",
    "    ax.set_title(f'{name}_ICU')\n"
   ]
  },
  {
   "cell_type": "code",
   "execution_count": 87,
   "metadata": {},
   "outputs": [],
   "source": [
    "df_mary = df_ct[df_ct['hospital_name'].str.contains(r'MARY')]"
   ]
  },
  {
   "cell_type": "code",
   "execution_count": 88,
   "metadata": {},
   "outputs": [
    {
     "name": "stderr",
     "output_type": "stream",
     "text": [
      "/Users/kasturipananjady/.pyenv/versions/3.7.1/lib/python3.7/site-packages/pandas/plotting/_matplotlib/core.py:1235: UserWarning: FixedFormatter should only be used together with FixedLocator\n",
      "  ax.set_xticklabels(xticklabels)\n"
     ]
    },
    {
     "data": {
      "text/plain": [
       "<AxesSubplot:xlabel='collection_week'>"
      ]
     },
     "execution_count": 88,
     "metadata": {},
     "output_type": "execute_result"
    },
    {
     "data": {
      "image/png": "[encoded data removed]",
      "text/plain": [
       "<Figure size 432x288 with 1 Axes>"
      ]
     },
     "metadata": {
      "needs_background": "light"
     },
     "output_type": "display_data"
    }
   ],
   "source": [
    "df_mary.sort_values(by='collection_week').plot(x='collection_week',y='inpatient_beds_7_day_avg')"
   ]
  },
  {
   "cell_type": "code",
   "execution_count": 89,
   "metadata": {},
   "outputs": [
    {
     "name": "stderr",
     "output_type": "stream",
     "text": [
      "/Users/kasturipananjady/.pyenv/versions/3.7.1/lib/python3.7/site-packages/pandas/plotting/_matplotlib/core.py:1235: UserWarning: FixedFormatter should only be used together with FixedLocator\n",
      "  ax.set_xticklabels(xticklabels)\n"
     ]
    },
    {
     "data": {
      "text/plain": [
       "<AxesSubplot:xlabel='collection_week'>"
      ]
     },
     "execution_count": 89,
     "metadata": {},
     "output_type": "execute_result"
    },
    {
     "data": {
      "image/png": "[encoded data removed]",
      "text/plain": [
       "<Figure size 432x288 with 1 Axes>"
      ]
     },
     "metadata": {
      "needs_background": "light"
     },
     "output_type": "display_data"
    }
   ],
   "source": [
    "df_mary.sort_values(by='collection_week').plot(x='collection_week',y='total_staffed_adult_icu_beds_7_day_avg')"
   ]
  },
  {
   "cell_type": "code",
   "execution_count": 90,
   "metadata": {},
   "outputs": [],
   "source": [
    "df_francis = df_ct[df_ct['hospital_name'].str.contains(r'FRANCIS')]"
   ]
  },
  {
   "cell_type": "code",
   "execution_count": 91,
   "metadata": {},
   "outputs": [
    {
     "name": "stderr",
     "output_type": "stream",
     "text": [
      "/Users/kasturipananjady/.pyenv/versions/3.7.1/lib/python3.7/site-packages/pandas/plotting/_matplotlib/core.py:1235: UserWarning: FixedFormatter should only be used together with FixedLocator\n",
      "  ax.set_xticklabels(xticklabels)\n"
     ]
    },
    {
     "data": {
      "text/plain": [
       "<AxesSubplot:xlabel='collection_week'>"
      ]
     },
     "execution_count": 91,
     "metadata": {},
     "output_type": "execute_result"
    },
    {
     "data": {
      "image/png": "[encoded data removed]",
      "text/plain": [
       "<Figure size 432x288 with 1 Axes>"
      ]
     },
     "metadata": {
      "needs_background": "light"
     },
     "output_type": "display_data"
    }
   ],
   "source": [
    "df_francis.sort_values(by='collection_week').plot(x='collection_week',y='inpatient_beds_7_day_avg')"
   ]
  },
  {
   "cell_type": "code",
   "execution_count": 92,
   "metadata": {},
   "outputs": [
    {
     "name": "stderr",
     "output_type": "stream",
     "text": [
      "/Users/kasturipananjady/.pyenv/versions/3.7.1/lib/python3.7/site-packages/pandas/plotting/_matplotlib/core.py:1235: UserWarning: FixedFormatter should only be used together with FixedLocator\n",
      "  ax.set_xticklabels(xticklabels)\n"
     ]
    },
    {
     "data": {
      "text/plain": [
       "<AxesSubplot:xlabel='collection_week'>"
      ]
     },
     "execution_count": 92,
     "metadata": {},
     "output_type": "execute_result"
    },
    {
     "data": {
      "image/png": "[encoded data removed]",
      "text/plain": [
       "<Figure size 432x288 with 1 Axes>"
      ]
     },
     "metadata": {
      "needs_background": "light"
     },
     "output_type": "display_data"
    }
   ],
   "source": [
    "df_francis.sort_values(by='collection_week').plot(x='collection_week',y='total_staffed_adult_icu_beds_7_day_avg')"
   ]
  },
  {
   "cell_type": "code",
   "execution_count": 93,
   "metadata": {},
   "outputs": [
    {
     "data": {
      "text/plain": [
       "728      45.1\n",
       "5626     45.3\n",
       "10519    42.9\n",
       "15409    42.0\n",
       "20298    42.0\n",
       "25192    42.0\n",
       "30073    42.0\n",
       "34951    42.0\n",
       "39832    42.0\n",
       "44703    42.0\n",
       "49572    42.0\n",
       "54439    42.0\n",
       "59296    42.0\n",
       "64137    42.0\n",
       "68985    42.0\n",
       "73834    42.0\n",
       "78660    42.0\n",
       "83460    42.0\n",
       "88242    42.0\n",
       "93072    42.0\n",
       "Name: total_staffed_adult_icu_beds_7_day_avg, dtype: float64"
      ]
     },
     "execution_count": 93,
     "metadata": {},
     "output_type": "execute_result"
    }
   ],
   "source": [
    "df_francis['total_staffed_adult_icu_beds_7_day_avg']"
   ]
  },
  {
   "cell_type": "code",
   "execution_count": null,
   "metadata": {},
   "outputs": [],
   "source": []
  },
  {
   "cell_type": "code",
   "execution_count": 106,
   "metadata": {},
   "outputs": [],
   "source": [
    "\n",
    "df_ct[df_ct['hospital_name'].str.contains('YALE')][['hospital_name','collection_week','total_staffed_adult_icu_beds_7_day_avg']].pivot(index='hospital_name', columns='collection_week',values='total_staffed_adult_icu_beds_7_day_avg').to_clipboard()\n",
    "\n"
   ]
  },
  {
   "cell_type": "code",
   "execution_count": null,
   "metadata": {},
   "outputs": [],
   "source": [
    "df_ct[df_ct['hospital_name'].str.contains('DANBURY')][['hospital_name','collection_week','total_staffed_adult_icu_beds_7_day_avg']]"
   ]
  },
  {
   "cell_type": "code",
   "execution_count": 107,
   "metadata": {},
   "outputs": [],
   "source": [
    "\n",
    "df_ct[df_ct['hospital_name'].str.contains('DANBURY')][['hospital_name','collection_week','total_staffed_adult_icu_beds_7_day_avg']].pivot(index='hospital_name', columns='collection_week',values='total_staffed_adult_icu_beds_7_day_avg').to_clipboard()\n",
    "\n"
   ]
  },
  {
   "cell_type": "code",
   "execution_count": 109,
   "metadata": {},
   "outputs": [],
   "source": [
    "\n",
    "df_ct[df_ct['hospital_name'].str.contains('BRIDGEPORT')][['hospital_name','collection_week','total_staffed_adult_icu_beds_7_day_avg']].pivot(index='hospital_name', columns='collection_week',values='total_staffed_adult_icu_beds_7_day_avg').to_clipboard()\n",
    "\n"
   ]
  },
  {
   "cell_type": "code",
   "execution_count": 110,
   "metadata": {},
   "outputs": [],
   "source": [
    "\n",
    "df_ct[df_ct['hospital_name'].str.contains('FRANCIS')][['hospital_name','collection_week','total_staffed_adult_icu_beds_7_day_avg']].pivot(index='hospital_name', columns='collection_week',values='total_staffed_adult_icu_beds_7_day_avg').to_clipboard()\n",
    "\n"
   ]
  },
  {
   "cell_type": "code",
   "execution_count": 111,
   "metadata": {},
   "outputs": [],
   "source": [
    "\n",
    "df_ct[df_ct['hospital_name'].str.contains('DEMPSEY')][['hospital_name','collection_week','total_staffed_adult_icu_beds_7_day_avg']].pivot(index='hospital_name', columns='collection_week',values='total_staffed_adult_icu_beds_7_day_avg').to_clipboard()\n",
    "\n"
   ]
  },
  {
   "cell_type": "code",
   "execution_count": null,
   "metadata": {},
   "outputs": [],
   "source": []
  },
  {
   "cell_type": "code",
   "execution_count": null,
   "metadata": {},
   "outputs": [],
   "source": []
  },
  {
   "cell_type": "code",
   "execution_count": null,
   "metadata": {},
   "outputs": [],
   "source": []
  },
  {
   "cell_type": "code",
   "execution_count": null,
   "metadata": {},
   "outputs": [],
   "source": []
  },
  {
   "cell_type": "code",
   "execution_count": null,
   "metadata": {},
   "outputs": [],
   "source": []
  },
  {
   "cell_type": "code",
   "execution_count": null,
   "metadata": {},
   "outputs": [],
   "source": []
  },
  {
   "cell_type": "code",
   "execution_count": null,
   "metadata": {},
   "outputs": [],
   "source": []
  },
  {
   "cell_type": "code",
   "execution_count": null,
   "metadata": {},
   "outputs": [],
   "source": []
  },
  {
   "cell_type": "code",
   "execution_count": null,
   "metadata": {},
   "outputs": [],
   "source": []
  },
  {
   "cell_type": "code",
   "execution_count": null,
   "metadata": {},
   "outputs": [],
   "source": []
  },
  {
   "cell_type": "code",
   "execution_count": null,
   "metadata": {},
   "outputs": [],
   "source": []
  },
  {
   "cell_type": "code",
   "execution_count": null,
   "metadata": {},
   "outputs": [],
   "source": []
  },
  {
   "cell_type": "code",
   "execution_count": null,
   "metadata": {},
   "outputs": [],
   "source": []
  },
  {
   "cell_type": "code",
   "execution_count": null,
   "metadata": {},
   "outputs": [],
   "source": []
  },
  {
   "cell_type": "code",
   "execution_count": null,
   "metadata": {},
   "outputs": [],
   "source": []
  },
  {
   "cell_type": "code",
   "execution_count": null,
   "metadata": {},
   "outputs": [],
   "source": []
  },
  {
   "cell_type": "code",
   "execution_count": null,
   "metadata": {},
   "outputs": [],
   "source": []
  },
  {
   "cell_type": "code",
   "execution_count": null,
   "metadata": {},
   "outputs": [],
   "source": []
  },
  {
   "cell_type": "code",
   "execution_count": null,
   "metadata": {},
   "outputs": [],
   "source": []
  },
  {
   "cell_type": "code",
   "execution_count": null,
   "metadata": {},
   "outputs": [],
   "source": []
  }
 ],
 "metadata": {
  "kernelspec": {
   "display_name": "Python 3",
   "language": "python",
   "name": "python3"
  },
  "language_info": {
   "codemirror_mode": {
    "name": "ipython",
    "version": 3
   },
   "file_extension": ".py",
   "mimetype": "text/x-python",
   "name": "python",
   "nbconvert_exporter": "python",
   "pygments_lexer": "ipython3",
   "version": "3.7.1"
  }
 },
 "nbformat": 4,
 "nbformat_minor": 4
}
