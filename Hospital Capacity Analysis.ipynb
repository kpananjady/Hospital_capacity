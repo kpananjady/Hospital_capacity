{
 "cells": [
  {
   "cell_type": "markdown",
   "metadata": {},
   "source": [
    "Data dictionary: https://healthdata.gov/covid-19-reported-patient-impact-and-hospital-capacity-state-data-dictionary\n",
    "\n",
    "Reporting template: https://healthdata.gov/covid-19_hospital_reporting"
   ]
  },
  {
   "cell_type": "code",
   "execution_count": 14,
   "metadata": {},
   "outputs": [],
   "source": [
    "import pandas as pd "
   ]
  },
  {
   "cell_type": "code",
   "execution_count": 64,
   "metadata": {},
   "outputs": [
    {
     "name": "stdout",
     "output_type": "stream",
     "text": [
      "Hospital Capacity Analysis.ipynb\r\n",
      "reported_hospital_utilization_20201122_2140.csv\r\n",
      "reported_hospital_utilization_20201129_2141.csv\r\n"
     ]
    }
   ],
   "source": [
    "!ls"
   ]
  },
  {
   "cell_type": "code",
   "execution_count": 80,
   "metadata": {},
   "outputs": [],
   "source": [
    "# df = pd.read_csv('reported_hospital_utilization_20201122_2140.csv')"
   ]
  },
  {
   "cell_type": "code",
   "execution_count": 90,
   "metadata": {},
   "outputs": [],
   "source": [
    "df = pd.read_csv('reported_hospital_utilization_20201129_2141.csv')"
   ]
  },
  {
   "cell_type": "code",
   "execution_count": 91,
   "metadata": {},
   "outputs": [
    {
     "data": {
      "text/plain": [
       "Index(['state', 'critical_staffing_shortage_today_yes',\n",
       "       'critical_staffing_shortage_today_no',\n",
       "       'critical_staffing_shortage_today_not_reported',\n",
       "       'critical_staffing_shortage_anticipated_within_week_yes',\n",
       "       'critical_staffing_shortage_anticipated_within_week_no',\n",
       "       'critical_staffing_shortage_anticipated_within_week_not_reported',\n",
       "       'hospital_onset_covid', 'hospital_onset_covid_coverage',\n",
       "       'inpatient_beds', 'inpatient_beds_coverage', 'inpatient_beds_used',\n",
       "       'inpatient_beds_used_coverage', 'inpatient_beds_used_covid',\n",
       "       'inpatient_beds_used_covid_coverage',\n",
       "       'previous_day_admission_adult_covid_confirmed',\n",
       "       'previous_day_admission_adult_covid_confirmed_coverage',\n",
       "       'previous_day_admission_adult_covid_suspected',\n",
       "       'previous_day_admission_adult_covid_suspected_coverage',\n",
       "       'previous_day_admission_pediatric_covid_confirmed',\n",
       "       'previous_day_admission_pediatric_covid_confirmed_coverage',\n",
       "       'previous_day_admission_pediatric_covid_suspected',\n",
       "       'previous_day_admission_pediatric_covid_suspected_coverage',\n",
       "       'staffed_adult_icu_bed_occupancy',\n",
       "       'staffed_adult_icu_bed_occupancy_coverage',\n",
       "       'staffed_icu_adult_patients_confirmed_and_suspected_covid',\n",
       "       'staffed_icu_adult_patients_confirmed_and_suspected_covid_coverage',\n",
       "       'staffed_icu_adult_patients_confirmed_covid',\n",
       "       'staffed_icu_adult_patients_confirmed_covid_coverage',\n",
       "       'total_adult_patients_hospitalized_confirmed_and_suspected_covid',\n",
       "       'total_adult_patients_hospitalized_confirmed_and_suspected_covid_coverage',\n",
       "       'total_adult_patients_hospitalized_confirmed_covid',\n",
       "       'total_adult_patients_hospitalized_confirmed_covid_coverage',\n",
       "       'total_pediatric_patients_hospitalized_confirmed_and_suspected_covid',\n",
       "       'total_pediatric_patients_hospitalized_confirmed_and_suspected_covid_coverage',\n",
       "       'total_pediatric_patients_hospitalized_confirmed_covid',\n",
       "       'total_pediatric_patients_hospitalized_confirmed_covid_coverage',\n",
       "       'total_staffed_adult_icu_beds', 'total_staffed_adult_icu_beds_coverage',\n",
       "       'inpatient_beds_utilization', 'inpatient_beds_utilization_coverage',\n",
       "       'inpatient_beds_utilization_numerator',\n",
       "       'inpatient_beds_utilization_denominator',\n",
       "       'percent_of_inpatients_with_covid',\n",
       "       'percent_of_inpatients_with_covid_coverage',\n",
       "       'percent_of_inpatients_with_covid_numerator',\n",
       "       'percent_of_inpatients_with_covid_denominator',\n",
       "       'inpatient_bed_covid_utilization',\n",
       "       'inpatient_bed_covid_utilization_coverage',\n",
       "       'inpatient_bed_covid_utilization_numerator',\n",
       "       'inpatient_bed_covid_utilization_denominator',\n",
       "       'adult_icu_bed_covid_utilization',\n",
       "       'adult_icu_bed_covid_utilization_coverage',\n",
       "       'adult_icu_bed_covid_utilization_numerator',\n",
       "       'adult_icu_bed_covid_utilization_denominator',\n",
       "       'adult_icu_bed_utilization', 'adult_icu_bed_utilization_coverage',\n",
       "       'adult_icu_bed_utilization_numerator',\n",
       "       'adult_icu_bed_utilization_denominator', 'reporting_cutoff_start'],\n",
       "      dtype='object')"
      ]
     },
     "execution_count": 91,
     "metadata": {},
     "output_type": "execute_result"
    }
   ],
   "source": [
    "df.columns"
   ]
  },
  {
   "cell_type": "code",
   "execution_count": 92,
   "metadata": {},
   "outputs": [],
   "source": [
    "df_ct = df[df['state']=='CT']"
   ]
  },
  {
   "cell_type": "code",
   "execution_count": 93,
   "metadata": {},
   "outputs": [],
   "source": [
    "#8 hospitals are saying they have a critical staff shortage already"
   ]
  },
  {
   "cell_type": "code",
   "execution_count": 94,
   "metadata": {},
   "outputs": [
    {
     "data": {
      "text/html": [
       "<div>\n",
       "<style scoped>\n",
       "    .dataframe tbody tr th:only-of-type {\n",
       "        vertical-align: middle;\n",
       "    }\n",
       "\n",
       "    .dataframe tbody tr th {\n",
       "        vertical-align: top;\n",
       "    }\n",
       "\n",
       "    .dataframe thead th {\n",
       "        text-align: right;\n",
       "    }\n",
       "</style>\n",
       "<table border=\"1\" class=\"dataframe\">\n",
       "  <thead>\n",
       "    <tr style=\"text-align: right;\">\n",
       "      <th></th>\n",
       "      <th>state</th>\n",
       "      <th>critical_staffing_shortage_today_yes</th>\n",
       "      <th>critical_staffing_shortage_today_no</th>\n",
       "      <th>critical_staffing_shortage_today_not_reported</th>\n",
       "      <th>critical_staffing_shortage_anticipated_within_week_yes</th>\n",
       "      <th>critical_staffing_shortage_anticipated_within_week_no</th>\n",
       "      <th>critical_staffing_shortage_anticipated_within_week_not_reported</th>\n",
       "      <th>hospital_onset_covid</th>\n",
       "      <th>hospital_onset_covid_coverage</th>\n",
       "      <th>inpatient_beds</th>\n",
       "      <th>...</th>\n",
       "      <th>inpatient_bed_covid_utilization_denominator</th>\n",
       "      <th>adult_icu_bed_covid_utilization</th>\n",
       "      <th>adult_icu_bed_covid_utilization_coverage</th>\n",
       "      <th>adult_icu_bed_covid_utilization_numerator</th>\n",
       "      <th>adult_icu_bed_covid_utilization_denominator</th>\n",
       "      <th>adult_icu_bed_utilization</th>\n",
       "      <th>adult_icu_bed_utilization_coverage</th>\n",
       "      <th>adult_icu_bed_utilization_numerator</th>\n",
       "      <th>adult_icu_bed_utilization_denominator</th>\n",
       "      <th>reporting_cutoff_start</th>\n",
       "    </tr>\n",
       "  </thead>\n",
       "  <tbody>\n",
       "    <tr>\n",
       "      <th>19</th>\n",
       "      <td>CT</td>\n",
       "      <td>8</td>\n",
       "      <td>25</td>\n",
       "      <td>1</td>\n",
       "      <td>10</td>\n",
       "      <td>23</td>\n",
       "      <td>1</td>\n",
       "      <td>16</td>\n",
       "      <td>33</td>\n",
       "      <td>8087</td>\n",
       "      <td>...</td>\n",
       "      <td>7998</td>\n",
       "      <td>0.207729</td>\n",
       "      <td>32</td>\n",
       "      <td>215</td>\n",
       "      <td>1035</td>\n",
       "      <td>0.556291</td>\n",
       "      <td>33</td>\n",
       "      <td>588</td>\n",
       "      <td>1057</td>\n",
       "      <td>2020-11-25</td>\n",
       "    </tr>\n",
       "  </tbody>\n",
       "</table>\n",
       "<p>1 rows × 60 columns</p>\n",
       "</div>"
      ],
      "text/plain": [
       "   state  critical_staffing_shortage_today_yes  \\\n",
       "19    CT                                     8   \n",
       "\n",
       "    critical_staffing_shortage_today_no  \\\n",
       "19                                   25   \n",
       "\n",
       "    critical_staffing_shortage_today_not_reported  \\\n",
       "19                                              1   \n",
       "\n",
       "    critical_staffing_shortage_anticipated_within_week_yes  \\\n",
       "19                                                 10        \n",
       "\n",
       "    critical_staffing_shortage_anticipated_within_week_no  \\\n",
       "19                                                 23       \n",
       "\n",
       "    critical_staffing_shortage_anticipated_within_week_not_reported  \\\n",
       "19                                                  1                 \n",
       "\n",
       "    hospital_onset_covid  hospital_onset_covid_coverage  inpatient_beds  ...  \\\n",
       "19                    16                             33            8087  ...   \n",
       "\n",
       "    inpatient_bed_covid_utilization_denominator  \\\n",
       "19                                         7998   \n",
       "\n",
       "    adult_icu_bed_covid_utilization  adult_icu_bed_covid_utilization_coverage  \\\n",
       "19                         0.207729                                        32   \n",
       "\n",
       "    adult_icu_bed_covid_utilization_numerator  \\\n",
       "19                                        215   \n",
       "\n",
       "    adult_icu_bed_covid_utilization_denominator  adult_icu_bed_utilization  \\\n",
       "19                                         1035                   0.556291   \n",
       "\n",
       "    adult_icu_bed_utilization_coverage  adult_icu_bed_utilization_numerator  \\\n",
       "19                                  33                                  588   \n",
       "\n",
       "    adult_icu_bed_utilization_denominator  reporting_cutoff_start  \n",
       "19                                   1057              2020-11-25  \n",
       "\n",
       "[1 rows x 60 columns]"
      ]
     },
     "execution_count": 94,
     "metadata": {},
     "output_type": "execute_result"
    }
   ],
   "source": [
    "df_ct"
   ]
  },
  {
   "cell_type": "code",
   "execution_count": 95,
   "metadata": {},
   "outputs": [
    {
     "data": {
      "text/plain": [
       "19    0.207729\n",
       "Name: adult_icu_bed_covid_utilization, dtype: float64"
      ]
     },
     "execution_count": 95,
     "metadata": {},
     "output_type": "execute_result"
    }
   ],
   "source": [
    "df_ct['adult_icu_bed_covid_utilization']"
   ]
  },
  {
   "cell_type": "code",
   "execution_count": 96,
   "metadata": {},
   "outputs": [
    {
     "data": {
      "text/plain": [
       "19    0.556291\n",
       "Name: adult_icu_bed_utilization, dtype: float64"
      ]
     },
     "execution_count": 96,
     "metadata": {},
     "output_type": "execute_result"
    }
   ],
   "source": [
    "df_ct['adult_icu_bed_utilization']"
   ]
  },
  {
   "cell_type": "code",
   "execution_count": 97,
   "metadata": {},
   "outputs": [
    {
     "data": {
      "text/plain": [
       "19    0.687894\n",
       "Name: inpatient_beds_utilization, dtype: float64"
      ]
     },
     "execution_count": 97,
     "metadata": {},
     "output_type": "execute_result"
    }
   ],
   "source": [
    "#inpatient_bed_covid_utilization\n",
    "df_ct['inpatient_beds_utilization']\n"
   ]
  },
  {
   "cell_type": "code",
   "execution_count": 98,
   "metadata": {},
   "outputs": [
    {
     "data": {
      "text/plain": [
       "19    0.146912\n",
       "Name: inpatient_bed_covid_utilization, dtype: float64"
      ]
     },
     "execution_count": 98,
     "metadata": {},
     "output_type": "execute_result"
    }
   ],
   "source": [
    "df_ct['inpatient_bed_covid_utilization']\n"
   ]
  },
  {
   "cell_type": "code",
   "execution_count": null,
   "metadata": {},
   "outputs": [],
   "source": []
  },
  {
   "cell_type": "code",
   "execution_count": null,
   "metadata": {},
   "outputs": [],
   "source": []
  },
  {
   "cell_type": "code",
   "execution_count": null,
   "metadata": {},
   "outputs": [],
   "source": []
  },
  {
   "cell_type": "code",
   "execution_count": null,
   "metadata": {},
   "outputs": [],
   "source": []
  },
  {
   "cell_type": "code",
   "execution_count": null,
   "metadata": {},
   "outputs": [],
   "source": []
  },
  {
   "cell_type": "code",
   "execution_count": null,
   "metadata": {},
   "outputs": [],
   "source": []
  },
  {
   "cell_type": "code",
   "execution_count": null,
   "metadata": {},
   "outputs": [],
   "source": []
  },
  {
   "cell_type": "code",
   "execution_count": null,
   "metadata": {},
   "outputs": [],
   "source": []
  },
  {
   "cell_type": "code",
   "execution_count": null,
   "metadata": {},
   "outputs": [],
   "source": []
  },
  {
   "cell_type": "code",
   "execution_count": null,
   "metadata": {},
   "outputs": [],
   "source": []
  },
  {
   "cell_type": "code",
   "execution_count": null,
   "metadata": {},
   "outputs": [],
   "source": []
  },
  {
   "cell_type": "code",
   "execution_count": null,
   "metadata": {},
   "outputs": [],
   "source": []
  },
  {
   "cell_type": "code",
   "execution_count": null,
   "metadata": {},
   "outputs": [],
   "source": []
  },
  {
   "cell_type": "code",
   "execution_count": null,
   "metadata": {},
   "outputs": [],
   "source": []
  }
 ],
 "metadata": {
  "kernelspec": {
   "display_name": "Python 3",
   "language": "python",
   "name": "python3"
  },
  "language_info": {
   "codemirror_mode": {
    "name": "ipython",
    "version": 3
   },
   "file_extension": ".py",
   "mimetype": "text/x-python",
   "name": "python",
   "nbconvert_exporter": "python",
   "pygments_lexer": "ipython3",
   "version": "3.7.1"
  }
 },
 "nbformat": 4,
 "nbformat_minor": 4
}
